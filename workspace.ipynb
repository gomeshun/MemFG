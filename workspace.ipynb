{
 "cells": [
  {
   "cell_type": "markdown",
   "metadata": {},
   "source": [
    "# Definitions"
   ]
  },
  {
   "cell_type": "code",
   "execution_count": 111,
   "metadata": {},
   "outputs": [],
   "source": [
    "# parameter.py\n",
    "from itertools import chain, tee, accumulate\n",
    "from copy import copy, deepcopy\n",
    "from functools import lru_cache, wraps\n",
    "from numpy import nan\n",
    "\n",
    "def cached_property(func):\n",
    "    maxsize = 1\n",
    "    return property(lru_cache(maxsize)(func))\n",
    "\n",
    "class Parameter:\n",
    "    '''\n",
    "    Parameter class used in Model class.\n",
    "    \n",
    "    Once its instance is created, its property is cacked.\n",
    "    '''\n",
    "    def __init__(self,name,*sub_params,abstract=False):\n",
    "        if not isinstance(name,str):\n",
    "            raise TypeError(\"{} is not string\".format(name))\n",
    "        self._name = name\n",
    "        self.sub_params = []\n",
    "        \n",
    "        self._abstract = abstract\n",
    "        \n",
    "        if sub_params:\n",
    "            self.add(*sub_params)\n",
    "    \n",
    "    def create_cache(self):\n",
    "        _ = self.composite\n",
    "        _ = len(self)\n",
    "        _ = self.flattened\n",
    "    \n",
    "    \n",
    "    @cached_property\n",
    "    def abstract(self):\n",
    "        return self._abstract\n",
    "    \n",
    "    @cached_property\n",
    "    def composite(self):\n",
    "        return bool(self.sub_params)\n",
    "    \n",
    "    #def __len__(self):\n",
    "    #    if not self.composite:\n",
    "    #        return 1\n",
    "    #    else:\n",
    "    #        return sum([len(sub_param) for sub_param in self.sub_params])    \n",
    "    \n",
    "    @cached_property\n",
    "    def __len__(self):\n",
    "        '''\n",
    "        The number of dimension of 'self'.\n",
    "        '''\n",
    "        return len(self.flattened)\n",
    "    \n",
    "    def __getitem__(self,index):\n",
    "        if index in self.sub_param_names:\n",
    "            return \n",
    "    \n",
    "    def add(self,first,*sub_params):  # \"first\" is required if sub_params is a single parameter\n",
    "        '''\n",
    "        compose argument parameters into self.sub_params.\n",
    "        '''\n",
    "        _sub_params = chain((first,),sub_params)\n",
    "        self.sub_params.extend(_sub_params)\n",
    "        #self._len = len(list(self.flattened))  # calculate statistics when it updated\n",
    "        self.create_cache()\n",
    "    \n",
    "    #def __or__(self,param):\n",
    "    #    self.sub_params.extend(param.sub_params)\n",
    "    #    self._name = \"+\".join([self._name,param.name])\n",
    "    \n",
    "    @property\n",
    "    #@lru_cache()\n",
    "    def _flattened(self):\n",
    "        '''\n",
    "        If self is a not-composite parameter, return '[self,]' .\n",
    "        Else it returns a iterator of all '.sub_params' in 'self', recursively.\n",
    "        \n",
    "        Note: The return is cached to acceralete computing.\n",
    "        Note: Users cannot use the rerurn directly, while they can do through `flattened`\n",
    "        '''\n",
    "        if not self.composite:\n",
    "            return [self,] \n",
    "        else:\n",
    "            return chain.from_iterable([p._flattened for p in self.sub_params])  # Note: This is relatively time consunming.\n",
    "    \n",
    "    @cached_property\n",
    "    def flattened(self):\n",
    "        '''\n",
    "        Note: lru_cache()  does not works as attempted \n",
    "        because the hashed value of the argument 'self' is not changed by \n",
    "        assigning different values.\n",
    "        NO!!! IT WORKS BECAUSE IT RETURNS A LIST OBJECT!!!\n",
    "        '''\n",
    "        return list(self._flattened)\n",
    "    \n",
    "    @property\n",
    "    def name(self):\n",
    "        return self._name\n",
    "    \n",
    "    @property\n",
    "    def name_quoted(self):\n",
    "        return \"'{}'\".format(self._name)\n",
    "    \n",
    "    @property\n",
    "    def sub_param_names(self):\n",
    "        return [p.name for p in self.sub_params]\n",
    "    \n",
    "    @property\n",
    "    def sub_param_names_flattened(self):\n",
    "        return [p.name for p in self._flattened]\n",
    "    \n",
    "    @property\n",
    "    def sub_param_names_quoted(self):\n",
    "        return [\"'{}'\".format(sub_param.name) for sub_param in self.sub_params]\n",
    "    \n",
    "    @property\n",
    "    def lens_sub_params(self):\n",
    "        return [len(sub_params) for sub_params in self.sub_params]\n",
    "    \n",
    "    @property\n",
    "    def n_sub_params(self):\n",
    "        return len(self.sub_param_names)\n",
    "    \n",
    "    @property\n",
    "    def value_flattened(self):\n",
    "        #'''\n",
    "        #Note: Actual value is stored in the top level Parameter for quick accessing as \"self._value\".\n",
    "        #The variable \"self._value\" is bounded with those of sub_params, so if it is changed,\n",
    "        #those of sub_params are also chainged.\n",
    "        #'''  # <- THIS FEATURE IS OVERED\n",
    "        return [p._value for p in self._flattened]\n",
    "        #if not self.value_assigned:\n",
    "        #    raise TypeError(\"No value is assigned!\")\n",
    "        #else:\n",
    "        #    return self._value\n",
    "        \n",
    "    @property\n",
    "    def value(self):\n",
    "        if not self.composite:\n",
    "            return self._value\n",
    "        else:\n",
    "            return [p.value for p in self.sub_params]\n",
    "    \n",
    "    @property\n",
    "    def value_assigned(self):\n",
    "        #return (self._value is not None)\n",
    "        return hasattr(self,\"_value\")\n",
    "    \n",
    "    def _assign_value(self,value):\n",
    "        self._value = value\n",
    "    \n",
    "    def split_values(self,values):\n",
    "        if len(values) != len(self):\n",
    "            errmes = \"argument {} has a different shape from {}: ({})\"\n",
    "            errmes = errmes.format(values,self.name_quoted,self.sub_param_names_flattened)\n",
    "            raise ValueError(errmes)\n",
    "        start,stop = tee(accumulate(self.lens_sub_params))\n",
    "        start = chain([0,],start)\n",
    "        flatten = lambda x: x[0] if len(x)==1 else x \n",
    "        sub_values = [flatten(values[i:j]) for i,j in zip(start,stop)]\n",
    "        \n",
    "        return sub_values\n",
    "    \n",
    "    def assign_value(self,first,*values):\n",
    "        '''\n",
    "        assign a specific value given by the arguments.\n",
    "        \n",
    "        e.g.\n",
    "        \n",
    "        self.assgin_value(1.0)\n",
    "        \n",
    "        self.assign_value(1.0, 2.0, 3.0)\n",
    "        '''\n",
    "        if self.abstract:\n",
    "            raise AttributeError(\"{} is abstract parameter, not assignable\".format(self.name))\n",
    "        \n",
    "        value = list(chain([first,],values))\n",
    "        n = len(self)\n",
    "            \n",
    "        if len(value) != n:\n",
    "            err_mes = self.name + \": \"\n",
    "            err_mes += \"The length of value {} (={}) is inconsistent to the length of {} (={})\"\n",
    "            raise TypeError(err_mes.format(value,len(value),self._name,n))\n",
    "        else:\n",
    "            #### IT IS TIME CONSUMING. ####\n",
    "            #if self.composite:\n",
    "            #    start,stop = tee(accumulate(self.lens_sub_params))\n",
    "            #    start = chain([0,],start)\n",
    "            #    sub_values = [value[i:j] for i,j in zip(start,stop)]\n",
    "            #    #print([(p,val) for p,val in zip(self.sub_params,sub_values)])\n",
    "            #    [p.assign_value(*val) for p,val in zip(self.sub_params,sub_values)]\n",
    "            \n",
    "            #if self.composite:\n",
    "            #    start,stop = tee(accumulate(self.lens_sub_params))\n",
    "            #    start = chain([0,],start)\n",
    "            #    sub_values = [value[i:j] for i,j in zip(start,stop)]\n",
    "            #    #print([(p,val) for p,val in zip(self.sub_params,sub_values)])\n",
    "            #    [p.assign_value(*val) for p,val in zip(self.sub_params,sub_values)]\n",
    "            #    \n",
    "            #else:\n",
    "            #    self._value = first if not isinstance(first,list) else first[0]\n",
    "            \n",
    "            [p._assign_value(val) for p,val in zip(self._flattened,value)]\n",
    "            \n",
    "                #print(first,isinstance(first,list),type(first))\n",
    "            \n",
    "            \n",
    "    #def clear_values(self):\n",
    "    #    del self._value\n",
    "        \n",
    "    @property\n",
    "    def _str_base(self):\n",
    "        '''\n",
    "        create string.\n",
    "        '''\n",
    "        #_type = \"Single\" if not self.composite else \"Composite\"\n",
    "        \n",
    "        output_list = []\n",
    "        \n",
    "        if self.abstract: output_list.append(\"Abstract\")\n",
    "        output_list.append(\"Parameter:\")\n",
    "        output_list.append(self.name_quoted)\n",
    "        \n",
    "        if self.composite:\n",
    "            sub_param_names = \", \".join(self.sub_param_names_quoted)\n",
    "            output_list.append(\"[{} sub_params: {} ]\".format(self.n_sub_params,sub_param_names))\n",
    "        elif self.value_assigned:\n",
    "            output_list.append(\"( value: {} )\".format(self._value))\n",
    "        \n",
    "        _str = \"< \" + \" \".join(output_list) + \" >\"\n",
    "        _str_subs = chain.from_iterable([[\"\\t\"+s for s in sub_param._str_base] for sub_param in self.sub_params])\n",
    "        #print([_repr,*_repr_subs])\n",
    "        return [_str,*_str_subs]\n",
    "    \n",
    "    def __str__(self):\n",
    "        return \"\\n\".join(self._str_base)\n",
    "    \n",
    "    def __repr__(self): \n",
    "        return self._str_base[0]"
   ]
  },
  {
   "cell_type": "code",
   "execution_count": 112,
   "metadata": {},
   "outputs": [],
   "source": [
    "# model.py\n",
    "# from .parameter import Parameter\n",
    "import functools\n",
    "\n",
    "#def _classmethod_param_packed(func,cls_Model,prefix_original=\"_\",prefix_converted=\"\"):\n",
    "#    '''\n",
    "#    decorate raw 'func' (func(x,a,b,..., [aa,bb,..], [aaa,bbb,...], ...)) \n",
    "#    to take flatten arguments (func(x,y,a,b,...,aa,bb,...,aaa,bbb,...)) .\n",
    "#    The function before the decoration are saved as a classmethod of func.__class__.\n",
    "#    decorated function are saved as an attribute attempted by users.\n",
    "#    \n",
    "#    !!! IT DOES NOT WORK NAIVELY BECAUSE THE DECORATOR IS CALLED BEFORE THE DEFINOTION OF CLS_MODEL !!!\n",
    "#    !!! IT MUST BE CALLED BY CLASS !!!\n",
    "#    '''\n",
    "#    # See https://qiita.com/chankane/items/3909e9f2d1c5910cc60b\n",
    "#    def decorator(func):\n",
    "#        arg_list = func.__code__.co_varnames[:func.__code__.co_argcount]\n",
    "#        params_names = cls_Model.parameter.sub_param_names\n",
    "#    \n",
    "#        @functools.wraps(func)\n",
    "#        def wrapped_func(cls,*args, p=None,**kwargs):\n",
    "#            '''\n",
    "#            wrapped function.\n",
    "#        \n",
    "#            args: original arguments of func, except for parameter. \n",
    "#            kwargs: flatten parameter list.\n",
    "#            '''\n",
    "#        \n",
    "#            if p is None:\n",
    "#                errmes = \"keyword argument 'p' is not specified or None.\\n\"\n",
    "#                errmes += \"(Automatically wrapped function must take parameters like func(x,y,p=[...]) )\"\n",
    "#                raise TypeError(mes)\n",
    "#                \n",
    "#            splited_values = parameter.split_values(p)\n",
    "#            dict_params = {p_name:val for p_name,val in zip(params_names,splited_values) if (p_name in arg_list)}\n",
    "#            kwargs.update(dict_params)\n",
    "#            return func(self,*args,**kwargs)\n",
    "#        \n",
    "#        wrapped_func.__name__ = prefix_converted + func.__name__\n",
    "#        setattr(cls_Model,prefix_original+func.__name__,classmethod(func))\n",
    "#        \n",
    "#        return classmethod(wrapped_func)\n",
    "#    \n",
    "#    return decorator\n",
    "\n",
    "\n",
    "class _ModelMeta(type):\n",
    "    function_prefix = \"func_\"\n",
    "\n",
    "    def __new__(cls,cls_name,cls_bases,cls_dict):\n",
    "        '''\n",
    "        Create an class attrtibute `sub_models`.\n",
    "        Create an attribute 'parameter' as an abstract parameter.\n",
    "        Create `flat` functions as attributes from functions like 'func_'.\n",
    "        '''\n",
    "    ## extend `param_names` to include all names of the `sub_models`.\n",
    "    #    param_names = cls_dict[\"param_names\"]\n",
    "    #    if not cls_dict[\"sub_models\"]:\n",
    "    #        param_names.extend([cls_sub_model.parameter for cls_sub_model in cls_dict[\"sub_models\"]])  \n",
    "        if not (\"sub_models\" in cls_dict) : cls_dict[\"sub_models\"] = []\n",
    "            \n",
    "        parameters = [Parameter(name,abstract=True) for name in cls_dict[\"param_names\"]]\n",
    "        \n",
    "        for cls_sub_model in cls_dict[\"sub_models\"]:\n",
    "            parameters.append(cls_sub_model.parameter)\n",
    "            cls_dict[cls_sub_model.__name__] = cls_sub_model\n",
    "            #print(parameters)\n",
    "            \n",
    "        cls_dict[\"parameter\"] = Parameter(\"Parameter_\"+cls_name,*parameters,abstract=True)\n",
    "        \n",
    "        # define 'flat' function\n",
    "        for attr in list(cls_dict):\n",
    "            len_prefix = len(_ModelMeta.function_prefix)\n",
    "            if attr[:len_prefix] == _ModelMeta.function_prefix:\n",
    "                wrapped_func = _ModelMeta.function_wrapper(cls_dict[attr],cls_dict[\"parameter\"])\n",
    "                cls_dict[attr[len_prefix:]] = classmethod(wrapped_func)\n",
    "                cls_dict[attr] = classmethod(cls_dict[attr])\n",
    "                #print(cls_dict)\n",
    "                \n",
    "        #def classmethod_param_packed(func,cls_Model,prefix_original=\"_\",prefix_converted=\"\"):\n",
    "        #    return _classmethod_param_packed(func,cls,prefix_original,prefix_converted)\n",
    "        #\n",
    "        #cls_dict[\"classmethod_param_packed\"] = classmethod(classmethod_param_packed)\n",
    "        \n",
    "        return super().__new__(cls,cls_name,cls_bases,cls_dict)\n",
    "    \n",
    "\n",
    "    @staticmethod\n",
    "    def function_wrapper(func,parameter):\n",
    "        '''\n",
    "        convert 'raw' function into 'flat' function:\n",
    "        \n",
    "        'raw': f(x,y,a,b,Parameter_Model1,Parameter_Model2)\n",
    "            where 'Parameter_X' is flatened.\n",
    "            \n",
    "        'flat': f(x,y,p)\n",
    "            where 'p' is flattened.\n",
    "        '''\n",
    "        # See https://qiita.com/chankane/items/3909e9f2d1c5910cc60b\n",
    "        \n",
    "        arg_list = func.__code__.co_varnames[:func.__code__.co_argcount]\n",
    "        param_list = parameter.sub_param_names\n",
    "        \n",
    "        @functools.wraps(func)\n",
    "        def wrapped_func(self,*args, p=None,**kwargs):\n",
    "            '''\n",
    "            wrapped function.\n",
    "            \n",
    "            args: original arguments of func, except for parameter. \n",
    "            kwargs: flatten parameter list.\n",
    "            '''\n",
    "            if p is None:\n",
    "                raise TypeError(\"keyword argument 'p' is not specified or None.\\n(Automatically wrapped function must take parameters like func(x,y,p=[...]) )\")\n",
    "            splited_params = parameter.split_values(p)\n",
    "            dict_params = {name:val for name,val in zip(parameter.sub_param_names,splited_params) if (name in arg_list)}\n",
    "            #print(kwargs,dict_params)\n",
    "            kwargs.update(dict_params)\n",
    "            return func(self,*args,**kwargs)\n",
    "        \n",
    "        return wrapped_func\n",
    "    \n",
    "\n",
    "    \n",
    "class Model(metaclass=_ModelMeta):\n",
    "    param_names = []\n",
    "    sub_models = []\n",
    "    \n",
    "#    def __new__(cls):\n",
    "#        '''\n",
    "#        Define the 'param_names' of an instance.\n",
    "#        Generate attibutes of parameters automatically. \n",
    "#        '''\n",
    "#        \n",
    "#        cls_name = cls.__name__\n",
    "#        cls_bases = cls.__bases__\n",
    "#        cls_dict = cls.__dict__\n",
    "#        \n",
    "#        parameters = [Parameter(name) for name in cls_dict[\"param_names\"]]\n",
    "#        \n",
    "#        if \"sub_models\" in cls_dict:\n",
    "#            cls.sub_models = []\n",
    "#           for cls_sub_model in cls_dict[\"sub_models\"]:\n",
    "#                sub_model = cls_sub_model()\n",
    "#                cls.sub_models.append(sub_model)\n",
    "#                parameters.append(sub_model.parameter)\n",
    "#                cls_dict[cls_sub_model.__name__] = sub_model\n",
    "#           #print(parameters)\n",
    "#            \n",
    "#        cls_dict[\"parameter\"] = Parameter(\"Parameter_\"+cls_name,*parameters)\n",
    "#        return super().__new__(cls,cls_name,cls_bases,cls_dict)\n",
    "    \n",
    "    def __init__(self):\n",
    "        '''\n",
    "        create Model instances of submodels as well as Parameter instance.\n",
    "        '''\n",
    "        parameters = [Parameter(name) for name in self.param_names]  # Note: It masks 'Model.parameter'.\n",
    "        sub_models = []\n",
    "        \n",
    "        for cls_sub_model in self.sub_models:\n",
    "            sub_model = cls_sub_model()\n",
    "            sub_models.append(sub_model)\n",
    "            parameters.append(sub_model.parameter)\n",
    "            setattr(self, cls_sub_model.__name__, sub_model)\n",
    "        \n",
    "        #print(parameters)\n",
    "            \n",
    "        self.parameter = Parameter(\"Parameter_\"+self.__class__.__name__,*parameters)\n",
    "        self.sub_models = sub_models\n",
    "        \n",
    "        # initialize parameter\n",
    "        [p.assign_value(nan) for p in self.parameter.flattened]\n",
    "        \n",
    "    def assign_value(self,*p):\n",
    "        self.parameter.assign_value(*p)\n",
    "    \n",
    "    def split_params(self,values):\n",
    "        return self.parameter.split_values(values)\n",
    "\n",
    "\n"
   ]
  },
  {
   "cell_type": "markdown",
   "metadata": {},
   "source": [
    "# Test"
   ]
  },
  {
   "cell_type": "code",
   "execution_count": 113,
   "metadata": {},
   "outputs": [],
   "source": [
    "# test_parameter.py\n",
    "import unittest\n",
    "\n",
    "class TestParaemter(unittest.TestCase):\n",
    "    '''\n",
    "    test class of the class 'Parameter'.\n",
    "    '''\n",
    "\n",
    "    def setUp(self):\n",
    "        self.a = Parameter(\"a\")\n",
    "        self.b = Parameter(\"b\")\n",
    "        self.g = Parameter(\"g\")\n",
    "        self.dm = Parameter(\"DM param\",self.a,self.b,self.g)\n",
    "        self.re = Parameter(\"re\")\n",
    "        self.odds = Parameter(\"odds\")\n",
    "        self.stellar = Parameter(\"stellar param\",self.re,self.odds)\n",
    "        self.anib = Parameter(\"anib\")\n",
    "        self.dsph = Parameter(\"dSph param\", self.anib, self.stellar, self.dm)\n",
    "    \n",
    "    def tearDown(self):\n",
    "        del self\n",
    "    \n",
    "    \n",
    "    def test_print(self):\n",
    "        string = \"< Parameter: 'dSph param' [3 sub_params: 'anib', 'stellar param', 'DM param' ] >\\n\"\n",
    "        string += \"\\t< Parameter: 'anib' >\\n\"\n",
    "        string += \"\\t< Parameter: 'stellar param' [2 sub_params: 're', 'odds' ] >\\n\"\n",
    "        string += \"\\t\\t< Parameter: 're' >\\n\"\n",
    "        string += \"\\t\\t< Parameter: 'odds' >\\n\"\n",
    "        string += \"\\t< Parameter: 'DM param' [3 sub_params: 'a', 'b', 'g' ] >\\n\"\n",
    "        string += \"\\t\\t< Parameter: 'a' >\\n\"\n",
    "        string += \"\\t\\t< Parameter: 'b' >\\n\"\n",
    "        string += \"\\t\\t< Parameter: 'g' >\"\n",
    "\t\t\n",
    "        output = str(self.dsph)\n",
    "        \n",
    "        self.assertEqual(string,output,\"string unmatched\\n{}\\n{}\".format(string,output))\n",
    "    \n",
    "    \n",
    "    def test_assign_value(self):\n",
    "        value1 = [0,1.,2.,3.,4.,5.]\n",
    "        value1_ = [0,[1,2],[3,4,5]]\n",
    "        value2 = [5.,6.,7.,8.,9.,10.]\n",
    "        self.dsph.assign_value(*value1)\n",
    "        self.assertEqual(value1,self.dsph.value_flattened)\n",
    "        self.assertEqual(value1_,self.dsph.value)\n",
    "        \n",
    "        # check whether the parameter can update its value properly\n",
    "        self.dsph.assign_value(*value2)\n",
    "        self.assertEqual(value2,self.dsph.value_flattened)\n",
    "    \n",
    "    "
   ]
  },
  {
   "cell_type": "code",
   "execution_count": 114,
   "metadata": {},
   "outputs": [],
   "source": [
    "# test_model.py\n",
    "# import unittest\n",
    "class TestModel(unittest.TestCase):\n",
    "    '''\n",
    "    test class of the class 'Parameter'.\n",
    "    '''\n",
    "\n",
    "    def setUp(self):\n",
    "        class Model1(Model):\n",
    "            param_names = [\"a\",\"b\",\"c\"]\n",
    "\n",
    "            def func_f_model1(cls,x,a,b,c):\n",
    "                return {\"f_model1\":{\"x\":x,\"a\":a,\"b\":b,\"c\":c}}\n",
    "        \n",
    "            \n",
    "        class Model2(Model):\n",
    "            param_names = [\"d\",\"e\",\"f\"]\n",
    "\n",
    "            def func_f_model2(cls,x,d,e,f):\n",
    "                return {\"f_model2\":{\"x\":x,\"d\":d,\"e\":e,\"f\":f}}\n",
    "        \n",
    "        class Model3(Model):\n",
    "            param_names = [\"A\",\"B\"]\n",
    "            sub_models = [Model1,Model2]\n",
    "            \n",
    "            def func_f_model3(cls,x,A,B,Parameter_Model1,Parameter_Model2):\n",
    "                ret = {\"f_model3\":{\"x\":x,\"A\":A,\"B\":B,\"Parameter_Model1\":Parameter_Model1,\"Parameter_Model2\":Parameter_Model2}}\n",
    "                ret.update(cls.Model1.f_model1(x,p=Parameter_Model1))\n",
    "                ret.update(cls.Model2.f_model2(x,p=Parameter_Model2))\n",
    "                return ret\n",
    "        \n",
    "        self.Model1 = Model1\n",
    "        self.Model2 = Model2\n",
    "        self.Model3 = Model3\n",
    "            \n",
    "\n",
    "    def tearDown(self):\n",
    "        del self\n",
    "    \n",
    "    def test_parameter(self):\n",
    "        string = \"< Abstract Parameter: 'Parameter_Model3' [4 sub_params: 'A', 'B', 'Parameter_Model1', 'Parameter_Model2' ] >\\n\"\n",
    "        string += \"\\t< Abstract Parameter: 'A' >\\n\"\n",
    "        string += \"\\t< Abstract Parameter: 'B' >\\n\"\n",
    "        string += \"\\t< Abstract Parameter: 'Parameter_Model1' [3 sub_params: 'a', 'b', 'c' ] >\\n\"\n",
    "        string += \"\\t\\t< Abstract Parameter: 'a' >\\n\"\n",
    "        string += \"\\t\\t< Abstract Parameter: 'b' >\\n\"\n",
    "        string += \"\\t\\t< Abstract Parameter: 'c' >\\n\"\n",
    "        string += \"\\t< Abstract Parameter: 'Parameter_Model2' [3 sub_params: 'd', 'e', 'f' ] >\\n\"\n",
    "        string += \"\\t\\t< Abstract Parameter: 'd' >\\n\"\n",
    "        string += \"\\t\\t< Abstract Parameter: 'e' >\\n\"\n",
    "        string += \"\\t\\t< Abstract Parameter: 'f' >\"\n",
    "\t\t\n",
    "        \n",
    "        output = str(self.Model3.parameter)\n",
    "        self.assertEqual(string,output,msg=\"string unmatched:\\n{}\\n{}\".format(string,output))\n",
    "        \n",
    "    def test_assign_value(self):\n",
    "        value1 = [0,1,2,3,4,5,6,7]\n",
    "        value1_ = [0,1,[2,3,4],[5,6,7]]\n",
    "        value2 = [1,2,3,4,5,6,7,8]\n",
    "        \n",
    "        with self.assertRaises(AttributeError):\n",
    "            self.Model3.assign_value(value1)\n",
    "        \n",
    "        model = self.Model3()\n",
    "        model.assign_value(*value1)\n",
    "        self.assertEqual(value1,model.parameter.value_flattened)\n",
    "        self.assertEqual(value1_,model.parameter.value)\n",
    "        \n",
    "        # check whether the parameter can update its value properly\n",
    "        model.assign_value(*value2)\n",
    "        self.assertEqual(value2,model.parameter.value_flattened)\n",
    "    \n",
    "    def test_model_func(self):\n",
    "        \n",
    "        #self.assertIsInstance(self.Model1.f_model1,classmethod)\n",
    "        #self.assertIsInstance(self.Model2.f_model2,classmethod)\n",
    "        #self.assertIsInstance(self.Model3.f_model3,classmethod)\n",
    "        \n",
    "        #self.assertIsInstance(self.Model1.func_f_model1,classmethod)\n",
    "        #self.assertIsInstance(self.Model2.func_f_model2,classmethod)\n",
    "        #self.assertIsInstance(self.Model3.func_f_model3,classmethod)\n",
    "        \n",
    "        \n",
    "        x,A,B,a,b,c,d,e,f = list(range(9))\n",
    "        ret_Model1 = {\"f_model1\":dict(x=x,a=a,b=b,c=c)}\n",
    "        ret_Model2 = {\"f_model2\":dict(x=x,d=d,e=e,f=f)}\n",
    "        ret_Model3 = {\"f_model3\":dict(x=x,A=A,B=B,Parameter_Model1=[a,b,c],Parameter_Model2=[d,e,f])}\n",
    "        ret_Model3.update(ret_Model1)\n",
    "        ret_Model3.update(ret_Model2)\n",
    "        \n",
    "        self.assertEqual(self.Model1.func_f_model1(x,a,b,c),ret_Model1)\n",
    "        self.assertEqual(self.Model1.f_model1(x,p=[a,b,c]),ret_Model1)\n",
    "        self.assertEqual(self.Model2.f_model2(x,p=[d,e,f]),ret_Model2)\n",
    "        self.assertEqual(self.Model3.func_f_model3(x,A,B,[a,b,c],[d,e,f]),ret_Model3)\n",
    "        self.assertEqual(self.Model3.f_model3(x,p=[A,B,a,b,c,d,e,f]),ret_Model3)\n",
    "        \n",
    "        model1,model2,model3 = self.Model1(), self.Model2(), self.Model3()\n",
    "        self.assertEqual(model1.func_f_model1(x,a,b,c),ret_Model1)\n",
    "        self.assertEqual(model1.f_model1(x,p=[a,b,c]),ret_Model1)\n",
    "        self.assertEqual(model2.f_model2(x,p=[d,e,f]),ret_Model2)\n",
    "        self.assertEqual(model3.func_f_model3(x,A,B,[a,b,c],[d,e,f]),ret_Model3)\n",
    "        self.assertEqual(model3.f_model3(x,p=[A,B,a,b,c,d,e,f]),ret_Model3)\n",
    "        \n",
    "        with self.assertRaises(ValueError):\n",
    "            model1.f_model1(x,p=[a,b,c,d])\n",
    "            model1.f_model1(x,p=[a])\n",
    "            model3.f_model3(x,p=[a,b])\n",
    "            model3.f_model3(x,p=[A,A,A,B,a,b,c,d,e,f])"
   ]
  },
  {
   "cell_type": "code",
   "execution_count": 107,
   "metadata": {},
   "outputs": [
    {
     "name": "stderr",
     "output_type": "stream",
     "text": [
      ".....\n",
      "----------------------------------------------------------------------\n",
      "Ran 5 tests in 0.003s\n",
      "\n",
      "OK\n"
     ]
    },
    {
     "data": {
      "text/plain": [
       "<unittest.main.TestProgram at 0x7f8ef732ac50>"
      ]
     },
     "execution_count": 107,
     "metadata": {},
     "output_type": "execute_result"
    }
   ],
   "source": [
    "unittest.main(argv=['first-arg-is-ignored'], exit=False)"
   ]
  },
  {
   "cell_type": "code",
   "execution_count": 70,
   "metadata": {},
   "outputs": [
    {
     "data": {
      "text/plain": [
       "{'f_model1': {'x': 1, 'A': 2, 'B': 3}}"
      ]
     },
     "execution_count": 70,
     "metadata": {},
     "output_type": "execute_result"
    }
   ],
   "source": [
    "{\"f_model1\":dict(x=1,A=2,B=3)}"
   ]
  },
  {
   "cell_type": "markdown",
   "metadata": {},
   "source": [
    "# Profiling"
   ]
  },
  {
   "cell_type": "code",
   "execution_count": 116,
   "metadata": {},
   "outputs": [
    {
     "name": "stdout",
     "output_type": "stream",
     "text": [
      "The line_profiler extension is already loaded. To reload it, use:\n",
      "  %reload_ext line_profiler\n"
     ]
    },
    {
     "ename": "AttributeError",
     "evalue": "'float' object has no attribute 'parameter'",
     "output_type": "error",
     "traceback": [
      "\u001b[0;31m---------------------------------------------------------------------------\u001b[0m",
      "\u001b[0;31mAttributeError\u001b[0m                            Traceback (most recent call last)",
      "\u001b[0;32m<ipython-input-116-54db777d3d81>\u001b[0m in \u001b[0;36m<module>\u001b[0;34m\u001b[0m\n\u001b[1;32m      1\u001b[0m \u001b[0mget_ipython\u001b[0m\u001b[0;34m(\u001b[0m\u001b[0;34m)\u001b[0m\u001b[0;34m.\u001b[0m\u001b[0mrun_line_magic\u001b[0m\u001b[0;34m(\u001b[0m\u001b[0;34m'load_ext'\u001b[0m\u001b[0;34m,\u001b[0m \u001b[0;34m'line_profiler'\u001b[0m\u001b[0;34m)\u001b[0m\u001b[0;34m\u001b[0m\u001b[0;34m\u001b[0m\u001b[0m\n\u001b[0;32m----> 2\u001b[0;31m \u001b[0mget_ipython\u001b[0m\u001b[0;34m(\u001b[0m\u001b[0;34m)\u001b[0m\u001b[0;34m.\u001b[0m\u001b[0mrun_line_magic\u001b[0m\u001b[0;34m(\u001b[0m\u001b[0;34m'lprun'\u001b[0m\u001b[0;34m,\u001b[0m \u001b[0;34m'-f Model.assign_value Model.assign_value(*[1.,2.,3.,4.,5.])'\u001b[0m\u001b[0;34m)\u001b[0m\u001b[0;34m\u001b[0m\u001b[0;34m\u001b[0m\u001b[0m\n\u001b[0m\u001b[1;32m      3\u001b[0m \u001b[0;31m#%timeit dsph.assign_value(*[1.,2.,3.,4.,5.])\u001b[0m\u001b[0;34m\u001b[0m\u001b[0;34m\u001b[0m\u001b[0;34m\u001b[0m\u001b[0m\n\u001b[1;32m      4\u001b[0m \u001b[0;31m#print(dsph)\u001b[0m\u001b[0;34m\u001b[0m\u001b[0;34m\u001b[0m\u001b[0;34m\u001b[0m\u001b[0m\n",
      "\u001b[0;32m~/.pyenv/versions/anaconda3-2018.12/lib/python3.6/site-packages/IPython/core/interactiveshell.py\u001b[0m in \u001b[0;36mrun_line_magic\u001b[0;34m(self, magic_name, line, _stack_depth)\u001b[0m\n\u001b[1;32m   2312\u001b[0m                 \u001b[0mkwargs\u001b[0m\u001b[0;34m[\u001b[0m\u001b[0;34m'local_ns'\u001b[0m\u001b[0;34m]\u001b[0m \u001b[0;34m=\u001b[0m \u001b[0msys\u001b[0m\u001b[0;34m.\u001b[0m\u001b[0m_getframe\u001b[0m\u001b[0;34m(\u001b[0m\u001b[0mstack_depth\u001b[0m\u001b[0;34m)\u001b[0m\u001b[0;34m.\u001b[0m\u001b[0mf_locals\u001b[0m\u001b[0;34m\u001b[0m\u001b[0;34m\u001b[0m\u001b[0m\n\u001b[1;32m   2313\u001b[0m             \u001b[0;32mwith\u001b[0m \u001b[0mself\u001b[0m\u001b[0;34m.\u001b[0m\u001b[0mbuiltin_trap\u001b[0m\u001b[0;34m:\u001b[0m\u001b[0;34m\u001b[0m\u001b[0;34m\u001b[0m\u001b[0m\n\u001b[0;32m-> 2314\u001b[0;31m                 \u001b[0mresult\u001b[0m \u001b[0;34m=\u001b[0m \u001b[0mfn\u001b[0m\u001b[0;34m(\u001b[0m\u001b[0;34m*\u001b[0m\u001b[0margs\u001b[0m\u001b[0;34m,\u001b[0m \u001b[0;34m**\u001b[0m\u001b[0mkwargs\u001b[0m\u001b[0;34m)\u001b[0m\u001b[0;34m\u001b[0m\u001b[0;34m\u001b[0m\u001b[0m\n\u001b[0m\u001b[1;32m   2315\u001b[0m             \u001b[0;32mreturn\u001b[0m \u001b[0mresult\u001b[0m\u001b[0;34m\u001b[0m\u001b[0;34m\u001b[0m\u001b[0m\n\u001b[1;32m   2316\u001b[0m \u001b[0;34m\u001b[0m\u001b[0m\n",
      "\u001b[0;32m</home/gomesu/.pyenv/versions/anaconda3-2018.12/lib/python3.6/site-packages/decorator.py:decorator-gen-126>\u001b[0m in \u001b[0;36mlprun\u001b[0;34m(self, parameter_s)\u001b[0m\n",
      "\u001b[0;32m~/.pyenv/versions/anaconda3-2018.12/lib/python3.6/site-packages/IPython/core/magic.py\u001b[0m in \u001b[0;36m<lambda>\u001b[0;34m(f, *a, **k)\u001b[0m\n\u001b[1;32m    185\u001b[0m     \u001b[0;31m# but it's overkill for just that one bit of state.\u001b[0m\u001b[0;34m\u001b[0m\u001b[0;34m\u001b[0m\u001b[0;34m\u001b[0m\u001b[0m\n\u001b[1;32m    186\u001b[0m     \u001b[0;32mdef\u001b[0m \u001b[0mmagic_deco\u001b[0m\u001b[0;34m(\u001b[0m\u001b[0marg\u001b[0m\u001b[0;34m)\u001b[0m\u001b[0;34m:\u001b[0m\u001b[0;34m\u001b[0m\u001b[0;34m\u001b[0m\u001b[0m\n\u001b[0;32m--> 187\u001b[0;31m         \u001b[0mcall\u001b[0m \u001b[0;34m=\u001b[0m \u001b[0;32mlambda\u001b[0m \u001b[0mf\u001b[0m\u001b[0;34m,\u001b[0m \u001b[0;34m*\u001b[0m\u001b[0ma\u001b[0m\u001b[0;34m,\u001b[0m \u001b[0;34m**\u001b[0m\u001b[0mk\u001b[0m\u001b[0;34m:\u001b[0m \u001b[0mf\u001b[0m\u001b[0;34m(\u001b[0m\u001b[0;34m*\u001b[0m\u001b[0ma\u001b[0m\u001b[0;34m,\u001b[0m \u001b[0;34m**\u001b[0m\u001b[0mk\u001b[0m\u001b[0;34m)\u001b[0m\u001b[0;34m\u001b[0m\u001b[0;34m\u001b[0m\u001b[0m\n\u001b[0m\u001b[1;32m    188\u001b[0m \u001b[0;34m\u001b[0m\u001b[0m\n\u001b[1;32m    189\u001b[0m         \u001b[0;32mif\u001b[0m \u001b[0mcallable\u001b[0m\u001b[0;34m(\u001b[0m\u001b[0marg\u001b[0m\u001b[0;34m)\u001b[0m\u001b[0;34m:\u001b[0m\u001b[0;34m\u001b[0m\u001b[0;34m\u001b[0m\u001b[0m\n",
      "\u001b[0;32m~/.pyenv/versions/anaconda3-2018.12/lib/python3.6/site-packages/line_profiler.py\u001b[0m in \u001b[0;36mlprun\u001b[0;34m(self, parameter_s)\u001b[0m\n\u001b[1;32m    354\u001b[0m         \u001b[0;32mtry\u001b[0m\u001b[0;34m:\u001b[0m\u001b[0;34m\u001b[0m\u001b[0;34m\u001b[0m\u001b[0m\n\u001b[1;32m    355\u001b[0m             \u001b[0;32mtry\u001b[0m\u001b[0;34m:\u001b[0m\u001b[0;34m\u001b[0m\u001b[0;34m\u001b[0m\u001b[0m\n\u001b[0;32m--> 356\u001b[0;31m                 \u001b[0mprofile\u001b[0m\u001b[0;34m.\u001b[0m\u001b[0mrunctx\u001b[0m\u001b[0;34m(\u001b[0m\u001b[0marg_str\u001b[0m\u001b[0;34m,\u001b[0m \u001b[0mglobal_ns\u001b[0m\u001b[0;34m,\u001b[0m \u001b[0mlocal_ns\u001b[0m\u001b[0;34m)\u001b[0m\u001b[0;34m\u001b[0m\u001b[0;34m\u001b[0m\u001b[0m\n\u001b[0m\u001b[1;32m    357\u001b[0m                 \u001b[0mmessage\u001b[0m \u001b[0;34m=\u001b[0m \u001b[0;34m''\u001b[0m\u001b[0;34m\u001b[0m\u001b[0;34m\u001b[0m\u001b[0m\n\u001b[1;32m    358\u001b[0m             \u001b[0;32mexcept\u001b[0m \u001b[0mSystemExit\u001b[0m\u001b[0;34m:\u001b[0m\u001b[0;34m\u001b[0m\u001b[0;34m\u001b[0m\u001b[0m\n",
      "\u001b[0;32m~/.pyenv/versions/anaconda3-2018.12/lib/python3.6/site-packages/line_profiler.py\u001b[0m in \u001b[0;36mrunctx\u001b[0;34m(self, cmd, globals, locals)\u001b[0m\n\u001b[1;32m    149\u001b[0m         \u001b[0mself\u001b[0m\u001b[0;34m.\u001b[0m\u001b[0menable_by_count\u001b[0m\u001b[0;34m(\u001b[0m\u001b[0;34m)\u001b[0m\u001b[0;34m\u001b[0m\u001b[0;34m\u001b[0m\u001b[0m\n\u001b[1;32m    150\u001b[0m         \u001b[0;32mtry\u001b[0m\u001b[0;34m:\u001b[0m\u001b[0;34m\u001b[0m\u001b[0;34m\u001b[0m\u001b[0m\n\u001b[0;32m--> 151\u001b[0;31m             \u001b[0mexec_\u001b[0m\u001b[0;34m(\u001b[0m\u001b[0mcmd\u001b[0m\u001b[0;34m,\u001b[0m \u001b[0mglobals\u001b[0m\u001b[0;34m,\u001b[0m \u001b[0mlocals\u001b[0m\u001b[0;34m)\u001b[0m\u001b[0;34m\u001b[0m\u001b[0;34m\u001b[0m\u001b[0m\n\u001b[0m\u001b[1;32m    152\u001b[0m         \u001b[0;32mfinally\u001b[0m\u001b[0;34m:\u001b[0m\u001b[0;34m\u001b[0m\u001b[0;34m\u001b[0m\u001b[0m\n\u001b[1;32m    153\u001b[0m             \u001b[0mself\u001b[0m\u001b[0;34m.\u001b[0m\u001b[0mdisable_by_count\u001b[0m\u001b[0;34m(\u001b[0m\u001b[0;34m)\u001b[0m\u001b[0;34m\u001b[0m\u001b[0;34m\u001b[0m\u001b[0m\n",
      "\u001b[0;32m<string>\u001b[0m in \u001b[0;36m<module>\u001b[0;34m\u001b[0m\n",
      "\u001b[0;32m<ipython-input-112-622bf0b2187c>\u001b[0m in \u001b[0;36massign_value\u001b[0;34m(self, *p)\u001b[0m\n\u001b[1;32m    172\u001b[0m \u001b[0;34m\u001b[0m\u001b[0m\n\u001b[1;32m    173\u001b[0m     \u001b[0;32mdef\u001b[0m \u001b[0massign_value\u001b[0m\u001b[0;34m(\u001b[0m\u001b[0mself\u001b[0m\u001b[0;34m,\u001b[0m\u001b[0;34m*\u001b[0m\u001b[0mp\u001b[0m\u001b[0;34m)\u001b[0m\u001b[0;34m:\u001b[0m\u001b[0;34m\u001b[0m\u001b[0;34m\u001b[0m\u001b[0m\n\u001b[0;32m--> 174\u001b[0;31m         \u001b[0mself\u001b[0m\u001b[0;34m.\u001b[0m\u001b[0mparameter\u001b[0m\u001b[0;34m.\u001b[0m\u001b[0massign_value\u001b[0m\u001b[0;34m(\u001b[0m\u001b[0;34m*\u001b[0m\u001b[0mp\u001b[0m\u001b[0;34m)\u001b[0m\u001b[0;34m\u001b[0m\u001b[0;34m\u001b[0m\u001b[0m\n\u001b[0m\u001b[1;32m    175\u001b[0m \u001b[0;34m\u001b[0m\u001b[0m\n\u001b[1;32m    176\u001b[0m     \u001b[0;32mdef\u001b[0m \u001b[0msplit_params\u001b[0m\u001b[0;34m(\u001b[0m\u001b[0mself\u001b[0m\u001b[0;34m,\u001b[0m\u001b[0mvalues\u001b[0m\u001b[0;34m)\u001b[0m\u001b[0;34m:\u001b[0m\u001b[0;34m\u001b[0m\u001b[0;34m\u001b[0m\u001b[0m\n",
      "\u001b[0;31mAttributeError\u001b[0m: 'float' object has no attribute 'parameter'"
     ]
    }
   ],
   "source": [
    "%load_ext line_profiler\n",
    "%lprun -f Model.assign_value Model.assign_value(*[1.,2.,3.,4.,5.])\n",
    "#%timeit dsph.assign_value(*[1.,2.,3.,4.,5.])\n",
    "#print(dsph)"
   ]
  },
  {
   "cell_type": "code",
   "execution_count": 30,
   "metadata": {},
   "outputs": [
    {
     "name": "stdout",
     "output_type": "stream",
     "text": [
      "2.6 µs ± 32.8 ns per loop (mean ± std. dev. of 7 runs, 100000 loops each)\n"
     ]
    }
   ],
   "source": [
    "%timeit dsph.value"
   ]
  },
  {
   "cell_type": "code",
   "execution_count": 22,
   "metadata": {},
   "outputs": [
    {
     "name": "stdout",
     "output_type": "stream",
     "text": [
      "380 ns ± 0.401 ns per loop (mean ± std. dev. of 7 runs, 1000000 loops each)\n"
     ]
    }
   ],
   "source": [
    "mylist = [1,2,3,4,5]\n",
    "data = [1,2,3,4,5]\n",
    "%timeit for i in range(len(mylist)): mylist[i] = data[i]"
   ]
  },
  {
   "cell_type": "code",
   "execution_count": 23,
   "metadata": {},
   "outputs": [
    {
     "name": "stdout",
     "output_type": "stream",
     "text": [
      "274 ns ± 0.983 ns per loop (mean ± std. dev. of 7 runs, 1000000 loops each)\n"
     ]
    }
   ],
   "source": [
    "%%timeit\n",
    "for i in range(len(mylist)):\n",
    "    mylist[i]"
   ]
  },
  {
   "cell_type": "code",
   "execution_count": 71,
   "metadata": {},
   "outputs": [
    {
     "name": "stdout",
     "output_type": "stream",
     "text": [
      "< Parameter: 'Parameter_Model12' [4 sub_params: 'A', 'B', 'Parameter_Model1', 'Parameter_Model2' ] >\n",
      "\t< Parameter: 'A' ( value: 1 ) >\n",
      "\t< Parameter: 'B' ( value: 2 ) >\n",
      "\t< Parameter: 'Parameter_Model1' [3 sub_params: 'a', 'b', 'c' ] >\n",
      "\t\t< Parameter: 'a' ( value: 3 ) >\n",
      "\t\t< Parameter: 'b' ( value: 4 ) >\n",
      "\t\t< Parameter: 'c' ( value: 5 ) >\n",
      "\t< Parameter: 'Parameter_Model2' [3 sub_params: 'd', 'e', 'f' ] >\n",
      "\t\t< Parameter: 'd' ( value: 6 ) >\n",
      "\t\t< Parameter: 'e' ( value: 7 ) >\n",
      "\t\t< Parameter: 'f' ( value: 8 ) >\n",
      "[1, 2, [3, 4, 5], [6, 7, 8]]\n"
     ]
    }
   ],
   "source": [
    "model.assign_value(*[1,2,3,4,5,6,7,8])\n",
    "print(model.parameter)\n",
    "print(model.parameter.value)"
   ]
  },
  {
   "cell_type": "code",
   "execution_count": 72,
   "metadata": {},
   "outputs": [
    {
     "name": "stdout",
     "output_type": "stream",
     "text": [
      "[1, 2, [3, 4, 5], [6, 7, 8]]\n"
     ]
    }
   ],
   "source": [
    "model.assign_value(*[1,2,3,4,5,6,7,8])\n",
    "print(model.parameter.value)"
   ]
  },
  {
   "cell_type": "code",
   "execution_count": 113,
   "metadata": {},
   "outputs": [
    {
     "name": "stdout",
     "output_type": "stream",
     "text": [
      "7.85 µs ± 22.9 ns per loop (mean ± std. dev. of 7 runs, 100000 loops each)\n"
     ]
    },
    {
     "data": {
      "text/plain": [
       "[0, 1, [2, 3, 4], [5, 6, 7]]"
      ]
     },
     "execution_count": 113,
     "metadata": {},
     "output_type": "execute_result"
    }
   ],
   "source": [
    "%timeit list(model.split_params(list(range(8))))\n",
    "list(model.split_params(list(range(8))))"
   ]
  },
  {
   "cell_type": "code",
   "execution_count": 106,
   "metadata": {},
   "outputs": [
    {
     "name": "stdout",
     "output_type": "stream",
     "text": [
      "7.81 µs ± 29.7 ns per loop (mean ± std. dev. of 7 runs, 100000 loops each)\n"
     ]
    },
    {
     "data": {
      "text/plain": [
       "[0, 1, [2, 3, 4], [5, 6, 7]]"
      ]
     },
     "execution_count": 106,
     "metadata": {},
     "output_type": "execute_result"
    }
   ],
   "source": [
    "%timeit model.split_params_2(list(range(8)))\n",
    "model.split_params_2(list(range(8)))"
   ]
  },
  {
   "cell_type": "code",
   "execution_count": 83,
   "metadata": {},
   "outputs": [
    {
     "data": {
      "text/plain": [
       "[(0, 1, 2), (3, 4, 5), (6, 7, 8), (9, 10, 11), (12, 13, 14)]"
      ]
     },
     "execution_count": 83,
     "metadata": {},
     "output_type": "execute_result"
    }
   ],
   "source": [
    "list(zip(*[iter(range(16))]*3))"
   ]
  },
  {
   "cell_type": "code",
   "execution_count": 85,
   "metadata": {},
   "outputs": [
    {
     "data": {
      "text/plain": [
       "[<range_iterator at 0x7fc887b99510>,\n",
       " <range_iterator at 0x7fc887b99510>,\n",
       " <range_iterator at 0x7fc887b99510>]"
      ]
     },
     "execution_count": 85,
     "metadata": {},
     "output_type": "execute_result"
    }
   ],
   "source": [
    "[*[iter(range(16))]*3]"
   ]
  },
  {
   "cell_type": "code",
   "execution_count": 115,
   "metadata": {},
   "outputs": [
    {
     "data": {
      "text/plain": [
       "['__call__',\n",
       " '__class__',\n",
       " '__delattr__',\n",
       " '__dir__',\n",
       " '__doc__',\n",
       " '__eq__',\n",
       " '__format__',\n",
       " '__func__',\n",
       " '__ge__',\n",
       " '__get__',\n",
       " '__getattribute__',\n",
       " '__gt__',\n",
       " '__hash__',\n",
       " '__init__',\n",
       " '__init_subclass__',\n",
       " '__le__',\n",
       " '__lt__',\n",
       " '__ne__',\n",
       " '__new__',\n",
       " '__reduce__',\n",
       " '__reduce_ex__',\n",
       " '__repr__',\n",
       " '__self__',\n",
       " '__setattr__',\n",
       " '__sizeof__',\n",
       " '__str__',\n",
       " '__subclasshook__']"
      ]
     },
     "execution_count": 115,
     "metadata": {},
     "output_type": "execute_result"
    }
   ],
   "source": [
    "dir(model.func_test)"
   ]
  },
  {
   "cell_type": "code",
   "execution_count": 119,
   "metadata": {},
   "outputs": [
    {
     "data": {
      "text/plain": [
       "<code object func_test at 0x7fc887d16ed0, file \"<ipython-input-111-1b4850fc654d>\", line 96>"
      ]
     },
     "execution_count": 119,
     "metadata": {},
     "output_type": "execute_result"
    }
   ],
   "source": [
    "model.func_test.__code__"
   ]
  },
  {
   "cell_type": "code",
   "execution_count": null,
   "metadata": {},
   "outputs": [],
   "source": []
  },
  {
   "cell_type": "code",
   "execution_count": 147,
   "metadata": {},
   "outputs": [],
   "source": [
    "import functools\n",
    "import inspect\n",
    "\n",
    "# a.x -> type(a).__dict__['x'].__get__(a, type(a))\n",
    "# A.x -> A.__dict__['x'].__get__(None, A)\n",
    "#\n",
    "# --> __get__の第一引数がNoneのときは、クラスから呼ばれた時。\n",
    "# そこで、A.__dict__['x']に__get__を持ったオブジェクトを置いとくと、\n",
    "# いい感じにHackできる。だたし、__get__(obe,objtype)の返り値にも注意。\n",
    "# a.x の場合は、返り値はメソッドである必要がある。つまり、関数の第一引数を固定したやつ。\n",
    "# A.x の場合は、気にしないでよし（エラーにする）。\n",
    "\n",
    "#def pure_instancemethod(func):\n",
    "#    functools.wraps(func)\n",
    "#    def wrapped_func(self,*args,**kwargs):\n",
    "#        if not isinstance(self,)\n",
    "#            raise TypeError(\"クラスメソッドじゃないよ\")\n",
    "\n",
    "class PureInstanceMethod:\n",
    "    def __init__(self,func):\n",
    "        self.func = func\n",
    "    \n",
    "    def __get__(self,obj,objtype):\n",
    "        if obj is None:  # クラスからの呼び出し：\n",
    "            raise TypeError(\"クラスから呼ぶなタコ\")\n",
    "            \n",
    "        else: # インスタンスからの呼び出し\n",
    "            def instancemethod(*args,**kwargs):\n",
    "                return self.func(obj,*args,**kwargs)\n",
    "            return instancemethod # メソッドを返してあげよう\n",
    "        \n",
    "    def __call__(self,*args,**kwargs):\n",
    "        return self.func(*args,**kwargs)\n",
    "            \n",
    "class MyClass:\n",
    "    \n",
    "    @PureInstanceMethod\n",
    "    def mymethod(self,*x):\n",
    "        print(x)\n",
    "    \n",
    "    # MyClass.__dict__[\"mymethod\"] = pureinstancemethod(mymethod) とほぼ同じ。\n",
    "    # つまりここにはmymethodで初期化されたpureinstancemethodのインスタンスが入る。\n",
    "\n",
    "x = list(range(4))\n",
    "myclass = MyClass()"
   ]
  },
  {
   "cell_type": "code",
   "execution_count": 151,
   "metadata": {},
   "outputs": [
    {
     "name": "stdout",
     "output_type": "stream",
     "text": [
      "(1, 2, 3)\n"
     ]
    }
   ],
   "source": [
    "myclass.mymethod(*[1,2,3])  # [0,1,2,3]"
   ]
  },
  {
   "cell_type": "code",
   "execution_count": 152,
   "metadata": {},
   "outputs": [
    {
     "ename": "TypeError",
     "evalue": "クラスから呼ぶなタコ",
     "output_type": "error",
     "traceback": [
      "\u001b[0;31m---------------------------------------------------------------------------\u001b[0m",
      "\u001b[0;31mTypeError\u001b[0m                                 Traceback (most recent call last)",
      "\u001b[0;32m<ipython-input-152-99447b4e3435>\u001b[0m in \u001b[0;36m<module>\u001b[0;34m\u001b[0m\n\u001b[0;32m----> 1\u001b[0;31m \u001b[0mMyClass\u001b[0m\u001b[0;34m.\u001b[0m\u001b[0mmymethod\u001b[0m\u001b[0;34m(\u001b[0m\u001b[0;34m*\u001b[0m\u001b[0;34m[\u001b[0m\u001b[0;36m1\u001b[0m\u001b[0;34m,\u001b[0m\u001b[0;36m2\u001b[0m\u001b[0;34m,\u001b[0m\u001b[0;36m3\u001b[0m\u001b[0;34m]\u001b[0m\u001b[0;34m)\u001b[0m  \u001b[0;31m# [1,2,3]\u001b[0m\u001b[0;34m\u001b[0m\u001b[0;34m\u001b[0m\u001b[0m\n\u001b[0m",
      "\u001b[0;32m<ipython-input-147-39b9424a9215>\u001b[0m in \u001b[0;36m__get__\u001b[0;34m(self, obj, objtype)\u001b[0m\n\u001b[1;32m     23\u001b[0m     \u001b[0;32mdef\u001b[0m \u001b[0m__get__\u001b[0m\u001b[0;34m(\u001b[0m\u001b[0mself\u001b[0m\u001b[0;34m,\u001b[0m\u001b[0mobj\u001b[0m\u001b[0;34m,\u001b[0m\u001b[0mobjtype\u001b[0m\u001b[0;34m)\u001b[0m\u001b[0;34m:\u001b[0m\u001b[0;34m\u001b[0m\u001b[0;34m\u001b[0m\u001b[0m\n\u001b[1;32m     24\u001b[0m         \u001b[0;32mif\u001b[0m \u001b[0mobj\u001b[0m \u001b[0;32mis\u001b[0m \u001b[0;32mNone\u001b[0m\u001b[0;34m:\u001b[0m  \u001b[0;31m# クラスからの呼び出し：\u001b[0m\u001b[0;34m\u001b[0m\u001b[0;34m\u001b[0m\u001b[0m\n\u001b[0;32m---> 25\u001b[0;31m             \u001b[0;32mraise\u001b[0m \u001b[0mTypeError\u001b[0m\u001b[0;34m(\u001b[0m\u001b[0;34m\"クラスから呼ぶなタコ\"\u001b[0m\u001b[0;34m)\u001b[0m\u001b[0;34m\u001b[0m\u001b[0;34m\u001b[0m\u001b[0m\n\u001b[0m\u001b[1;32m     26\u001b[0m \u001b[0;34m\u001b[0m\u001b[0m\n\u001b[1;32m     27\u001b[0m         \u001b[0;32melse\u001b[0m\u001b[0;34m:\u001b[0m \u001b[0;31m# インスタンスからの呼び出し\u001b[0m\u001b[0;34m\u001b[0m\u001b[0;34m\u001b[0m\u001b[0m\n",
      "\u001b[0;31mTypeError\u001b[0m: クラスから呼ぶなタコ"
     ]
    }
   ],
   "source": [
    "MyClass.mymethod(*[1,2,3])  # [1,2,3]"
   ]
  },
  {
   "cell_type": "code",
   "execution_count": 127,
   "metadata": {},
   "outputs": [
    {
     "data": {
      "text/plain": [
       "<__main__.MyClass at 0x7f8ef74180b8>"
      ]
     },
     "execution_count": 127,
     "metadata": {},
     "output_type": "execute_result"
    }
   ],
   "source": [
    "myclass.mymethod.__self__"
   ]
  },
  {
   "cell_type": "code",
   "execution_count": 128,
   "metadata": {},
   "outputs": [
    {
     "data": {
      "text/plain": [
       "<__main__.MyClass at 0x7f8ef74180b8>"
      ]
     },
     "execution_count": 128,
     "metadata": {},
     "output_type": "execute_result"
    }
   ],
   "source": [
    "myclass"
   ]
  },
  {
   "cell_type": "code",
   "execution_count": null,
   "metadata": {},
   "outputs": [],
   "source": []
  }
 ],
 "metadata": {
  "kernelspec": {
   "display_name": "Python 3",
   "language": "python",
   "name": "python3"
  },
  "language_info": {
   "codemirror_mode": {
    "name": "ipython",
    "version": 3
   },
   "file_extension": ".py",
   "mimetype": "text/x-python",
   "name": "python",
   "nbconvert_exporter": "python",
   "pygments_lexer": "ipython3",
   "version": "3.6.9"
  }
 },
 "nbformat": 4,
 "nbformat_minor": 4
}
