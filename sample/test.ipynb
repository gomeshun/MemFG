{
 "cells": [
  {
   "cell_type": "code",
   "execution_count": 1,
   "metadata": {},
   "outputs": [],
   "source": [
    "%load_ext autoreload\n",
    "%autoreload 2\n",
    "import sys\n",
    "sys.path += [\"../\",\"../data\"]\n",
    "from memfg.sampler import Sampler\n",
    "from memfg.dsphdata import dSphData, dSphProp"
   ]
  },
  {
   "cell_type": "code",
   "execution_count": 2,
   "metadata": {},
   "outputs": [
    {
     "data": {
      "text/plain": [
       "{'index_col': 0, 'cut': None, 'ra_idx': 'raMean', 'dec_idx': 'decMean'}"
      ]
     },
     "execution_count": 2,
     "metadata": {},
     "output_type": "execute_result"
    }
   ],
   "source": [
    "dSphData.idx_photo_default[\"cut\"] = None\n",
    "dSphData.idx_photo_default"
   ]
  },
  {
   "cell_type": "code",
   "execution_count": 3,
   "metadata": {},
   "outputs": [
    {
     "name": "stdout",
     "output_type": "stream",
     "text": [
      "<SkyCoord (ICRS): (ra, dec, distance) in (deg, deg, pc)\n",
      "    (227.28541667, 67.2225, 76000.)>\n",
      "distance_err = 6000\n"
     ]
    }
   ],
   "source": [
    "dsphdata = dSphData(\"sample_photo.csv\",\"sample_spec.csv\")\n",
    "dsphprop = dSphProp(\"Ursa Minor\",distance=76000,distance_err=6000)"
   ]
  },
  {
   "cell_type": "code",
   "execution_count": 6,
   "metadata": {},
   "outputs": [],
   "source": [
    "sampler = Sampler(\"photo\",dsphdata,dsphprop,\"exp2d\",[\"re_pc\",\"odds\",\"dra0\",\"dde0\"],[100,1,-1e-2,-1e-2],[200,5,1e-2,1e-2])"
   ]
  },
  {
   "cell_type": "code",
   "execution_count": 7,
   "metadata": {},
   "outputs": [
    {
     "name": "stderr",
     "output_type": "stream",
     "text": [
      "Burn in: 100%|██████████| 200/200 [00:39<00:00,  4.64it/s]\n",
      "0 th Sampling: 100%|██████████| 100/100 [00:19<00:00,  5.11it/s]\n",
      "1 th Sampling: 100%|██████████| 100/100 [00:20<00:00,  4.78it/s]\n",
      "2 th Sampling: 100%|██████████| 100/100 [00:20<00:00,  5.17it/s]\n",
      "3 th Sampling: 100%|██████████| 100/100 [00:20<00:00,  4.65it/s]\n",
      "4 th Sampling: 100%|██████████| 100/100 [00:20<00:00,  5.10it/s]\n"
     ]
    }
   ],
   "source": [
    "sampler.run_mcmc_epoch(\"test.csv\",n_burnin=200,n_run=100,n_epoch=5)"
   ]
  },
  {
   "cell_type": "code",
   "execution_count": 5,
   "metadata": {},
   "outputs": [
    {
     "name": "stderr",
     "output_type": "stream",
     "text": [
      "WBIC Burn in: 100%|██████████| 200/200 [00:40<00:00,  5.47it/s]\n",
      "0 th WBIC Sampling: 100%|██████████| 100/100 [00:20<00:00,  4.96it/s]\n",
      "1 th WBIC Sampling: 100%|██████████| 100/100 [00:19<00:00,  5.86it/s]\n",
      "2 th WBIC Sampling: 100%|██████████| 100/100 [00:20<00:00,  4.92it/s]\n",
      "3 th WBIC Sampling: 100%|██████████| 100/100 [00:19<00:00,  4.90it/s]\n",
      "4 th WBIC Sampling: 100%|██████████| 100/100 [00:20<00:00,  4.81it/s]\n"
     ]
    }
   ],
   "source": [
    "sampler.wbic_run_mcmc_epoch(\"test_wbic.csv\",n_burnin=200,n_run=100,n_epoch=5)"
   ]
  },
  {
   "cell_type": "code",
   "execution_count": 8,
   "metadata": {},
   "outputs": [
    {
     "data": {
      "text/html": [
       "<div>\n",
       "<style scoped>\n",
       "    .dataframe tbody tr th:only-of-type {\n",
       "        vertical-align: middle;\n",
       "    }\n",
       "\n",
       "    .dataframe tbody tr th {\n",
       "        vertical-align: top;\n",
       "    }\n",
       "\n",
       "    .dataframe thead th {\n",
       "        text-align: right;\n",
       "    }\n",
       "</style>\n",
       "<table border=\"1\" class=\"dataframe\">\n",
       "  <thead>\n",
       "    <tr style=\"text-align: right;\">\n",
       "      <th></th>\n",
       "      <th>re_pc</th>\n",
       "      <th>odds</th>\n",
       "      <th>dra0</th>\n",
       "      <th>dde0</th>\n",
       "      <th>lnpost</th>\n",
       "    </tr>\n",
       "  </thead>\n",
       "  <tbody>\n",
       "    <tr>\n",
       "      <th>count</th>\n",
       "      <td>8000.000000</td>\n",
       "      <td>8000.000000</td>\n",
       "      <td>8000.000000</td>\n",
       "      <td>8000.000000</td>\n",
       "      <td>8000.000000</td>\n",
       "    </tr>\n",
       "    <tr>\n",
       "      <th>mean</th>\n",
       "      <td>157.261026</td>\n",
       "      <td>1.737233</td>\n",
       "      <td>-0.016844</td>\n",
       "      <td>0.007668</td>\n",
       "      <td>-244212.312196</td>\n",
       "    </tr>\n",
       "    <tr>\n",
       "      <th>std</th>\n",
       "      <td>4.874218</td>\n",
       "      <td>0.073331</td>\n",
       "      <td>0.011552</td>\n",
       "      <td>0.004538</td>\n",
       "      <td>1.387937</td>\n",
       "    </tr>\n",
       "    <tr>\n",
       "      <th>min</th>\n",
       "      <td>140.249098</td>\n",
       "      <td>1.489529</td>\n",
       "      <td>-0.058557</td>\n",
       "      <td>-0.006504</td>\n",
       "      <td>-244222.889938</td>\n",
       "    </tr>\n",
       "    <tr>\n",
       "      <th>25%</th>\n",
       "      <td>153.865250</td>\n",
       "      <td>1.688256</td>\n",
       "      <td>-0.024723</td>\n",
       "      <td>0.004619</td>\n",
       "      <td>-244212.999497</td>\n",
       "    </tr>\n",
       "    <tr>\n",
       "      <th>50%</th>\n",
       "      <td>157.197527</td>\n",
       "      <td>1.738598</td>\n",
       "      <td>-0.016070</td>\n",
       "      <td>0.007779</td>\n",
       "      <td>-244212.007158</td>\n",
       "    </tr>\n",
       "    <tr>\n",
       "      <th>75%</th>\n",
       "      <td>160.650314</td>\n",
       "      <td>1.786935</td>\n",
       "      <td>-0.008776</td>\n",
       "      <td>0.010683</td>\n",
       "      <td>-244211.309004</td>\n",
       "    </tr>\n",
       "    <tr>\n",
       "      <th>max</th>\n",
       "      <td>174.989178</td>\n",
       "      <td>2.018892</td>\n",
       "      <td>0.033432</td>\n",
       "      <td>0.023206</td>\n",
       "      <td>-244210.351177</td>\n",
       "    </tr>\n",
       "  </tbody>\n",
       "</table>\n",
       "</div>"
      ],
      "text/plain": [
       "             re_pc         odds         dra0         dde0         lnpost\n",
       "count  8000.000000  8000.000000  8000.000000  8000.000000    8000.000000\n",
       "mean    157.261026     1.737233    -0.016844     0.007668 -244212.312196\n",
       "std       4.874218     0.073331     0.011552     0.004538       1.387937\n",
       "min     140.249098     1.489529    -0.058557    -0.006504 -244222.889938\n",
       "25%     153.865250     1.688256    -0.024723     0.004619 -244212.999497\n",
       "50%     157.197527     1.738598    -0.016070     0.007779 -244212.007158\n",
       "75%     160.650314     1.786935    -0.008776     0.010683 -244211.309004\n",
       "max     174.989178     2.018892     0.033432     0.023206 -244210.351177"
      ]
     },
     "execution_count": 8,
     "metadata": {},
     "output_type": "execute_result"
    },
    {
     "data": {
      "image/png": "[encoded data removed]",
      "text/plain": [
       "<Figure size 432x288 with 5 Axes>"
      ]
     },
     "metadata": {
      "needs_background": "light"
     },
     "output_type": "display_data"
    },
    {
     "data": {
      "image/png": "[encoded data removed]",
      "text/plain": [
       "<Figure size 432x288 with 6 Axes>"
      ]
     },
     "metadata": {
      "needs_background": "light"
     },
     "output_type": "display_data"
    }
   ],
   "source": [
    "import pandas as pd\n",
    "df = pd.read_csv(\"test.csv\")\n",
    "df.plot(subplots=True)\n",
    "df.hist(bins=64)\n",
    "df.describe()"
   ]
  },
  {
   "cell_type": "code",
   "execution_count": 9,
   "metadata": {},
   "outputs": [
    {
     "data": {
      "text/html": [
       "<div>\n",
       "<style scoped>\n",
       "    .dataframe tbody tr th:only-of-type {\n",
       "        vertical-align: middle;\n",
       "    }\n",
       "\n",
       "    .dataframe tbody tr th {\n",
       "        vertical-align: top;\n",
       "    }\n",
       "\n",
       "    .dataframe thead th {\n",
       "        text-align: right;\n",
       "    }\n",
       "</style>\n",
       "<table border=\"1\" class=\"dataframe\">\n",
       "  <thead>\n",
       "    <tr style=\"text-align: right;\">\n",
       "      <th></th>\n",
       "      <th>re_pc</th>\n",
       "      <th>odds</th>\n",
       "      <th>dra0</th>\n",
       "      <th>dde0</th>\n",
       "      <th>lngenpost</th>\n",
       "      <th>lnlike</th>\n",
       "    </tr>\n",
       "  </thead>\n",
       "  <tbody>\n",
       "    <tr>\n",
       "      <th>count</th>\n",
       "      <td>8000.000000</td>\n",
       "      <td>8000.000000</td>\n",
       "      <td>8000.000000</td>\n",
       "      <td>8000.000000</td>\n",
       "      <td>8000.000000</td>\n",
       "      <td>8000.000000</td>\n",
       "    </tr>\n",
       "    <tr>\n",
       "      <th>mean</th>\n",
       "      <td>159.493049</td>\n",
       "      <td>1.718542</td>\n",
       "      <td>-0.018224</td>\n",
       "      <td>0.007305</td>\n",
       "      <td>-25255.840374</td>\n",
       "      <td>-244229.798693</td>\n",
       "    </tr>\n",
       "    <tr>\n",
       "      <th>std</th>\n",
       "      <td>16.809716</td>\n",
       "      <td>0.252466</td>\n",
       "      <td>0.036774</td>\n",
       "      <td>0.013208</td>\n",
       "      <td>1.414384</td>\n",
       "      <td>13.677422</td>\n",
       "    </tr>\n",
       "    <tr>\n",
       "      <th>min</th>\n",
       "      <td>101.380327</td>\n",
       "      <td>1.038592</td>\n",
       "      <td>-0.135855</td>\n",
       "      <td>-0.043337</td>\n",
       "      <td>-25265.523026</td>\n",
       "      <td>-244323.432174</td>\n",
       "    </tr>\n",
       "    <tr>\n",
       "      <th>25%</th>\n",
       "      <td>147.815197</td>\n",
       "      <td>1.534754</td>\n",
       "      <td>-0.043918</td>\n",
       "      <td>-0.001442</td>\n",
       "      <td>-25256.561436</td>\n",
       "      <td>-244236.771535</td>\n",
       "    </tr>\n",
       "    <tr>\n",
       "      <th>50%</th>\n",
       "      <td>158.196339</td>\n",
       "      <td>1.692282</td>\n",
       "      <td>-0.018808</td>\n",
       "      <td>0.005976</td>\n",
       "      <td>-25255.506585</td>\n",
       "      <td>-244226.570883</td>\n",
       "    </tr>\n",
       "    <tr>\n",
       "      <th>75%</th>\n",
       "      <td>170.310926</td>\n",
       "      <td>1.892936</td>\n",
       "      <td>0.007251</td>\n",
       "      <td>0.016137</td>\n",
       "      <td>-25254.797849</td>\n",
       "      <td>-244219.717243</td>\n",
       "    </tr>\n",
       "    <tr>\n",
       "      <th>max</th>\n",
       "      <td>218.294024</td>\n",
       "      <td>2.855736</td>\n",
       "      <td>0.095643</td>\n",
       "      <td>0.051843</td>\n",
       "      <td>-25253.855269</td>\n",
       "      <td>-244210.602273</td>\n",
       "    </tr>\n",
       "  </tbody>\n",
       "</table>\n",
       "</div>"
      ],
      "text/plain": [
       "             re_pc         odds         dra0         dde0     lngenpost  \\\n",
       "count  8000.000000  8000.000000  8000.000000  8000.000000   8000.000000   \n",
       "mean    159.493049     1.718542    -0.018224     0.007305 -25255.840374   \n",
       "std      16.809716     0.252466     0.036774     0.013208      1.414384   \n",
       "min     101.380327     1.038592    -0.135855    -0.043337 -25265.523026   \n",
       "25%     147.815197     1.534754    -0.043918    -0.001442 -25256.561436   \n",
       "50%     158.196339     1.692282    -0.018808     0.005976 -25255.506585   \n",
       "75%     170.310926     1.892936     0.007251     0.016137 -25254.797849   \n",
       "max     218.294024     2.855736     0.095643     0.051843 -25253.855269   \n",
       "\n",
       "              lnlike  \n",
       "count    8000.000000  \n",
       "mean  -244229.798693  \n",
       "std        13.677422  \n",
       "min   -244323.432174  \n",
       "25%   -244236.771535  \n",
       "50%   -244226.570883  \n",
       "75%   -244219.717243  \n",
       "max   -244210.602273  "
      ]
     },
     "execution_count": 9,
     "metadata": {},
     "output_type": "execute_result"
    },
    {
     "data": {
      "image/png": "[encoded data removed]",
      "text/plain": [
       "<Figure size 432x288 with 6 Axes>"
      ]
     },
     "metadata": {
      "needs_background": "light"
     },
     "output_type": "display_data"
    },
    {
     "data": {
      "image/png": "[encoded data removed]",
      "text/plain": [
       "<Figure size 432x288 with 6 Axes>"
      ]
     },
     "metadata": {
      "needs_background": "light"
     },
     "output_type": "display_data"
    }
   ],
   "source": [
    "df_wbic = pd.read_csv(\"test_wbic.csv\")\n",
    "df_wbic.plot(subplots=True)\n",
    "df_wbic.hist(bins=64)\n",
    "df_wbic.describe()"
   ]
  },
  {
   "cell_type": "code",
   "execution_count": null,
   "metadata": {},
   "outputs": [],
   "source": []
  },
  {
   "cell_type": "code",
   "execution_count": 4,
   "metadata": {},
   "outputs": [
    {
     "name": "stdout",
     "output_type": "stream",
     "text": [
      "initialized:\n",
      "re_pc            200.000000\n",
      "a                  2.780000\n",
      "b                  7.780000\n",
      "g                  0.675000\n",
      "rhos_Msunpc3       0.008913\n",
      "rs_pc           9120.108394\n",
      "R_trunc_pc      2000.000000\n",
      "dtype: float64\n",
      "initialized:\n",
      "Rmax_pc    1207.13611\n",
      "dtype: float64\n"
     ]
    }
   ],
   "source": [
    "sampler = Sampler(\"spec\",dsphdata,dsphprop,\"exp2d\",\n",
    "                  [\"re_pc\",\"odds\",\"dra0\",\"dde0\"],\n",
    "                  [100,1,-1e-2,-1e-2],[200,5,1e-2,1e-2],\n",
    "                  paramlims_fname=\"paramlims.csv\",\n",
    "                  prior_norm_fname=\"prior_norm.csv\")"
   ]
  },
  {
   "cell_type": "code",
   "execution_count": 5,
   "metadata": {},
   "outputs": [
    {
     "data": {
      "text/plain": [
       "array([[ 1.70366526e+02,  1.49059799e+00,  4.76580729e-03,\n",
       "         1.37764044e-03],\n",
       "       [ 1.71825928e+02,  4.48723623e+00,  6.69039269e-03,\n",
       "        -1.34531716e-03],\n",
       "       [ 1.63178641e+02,  4.05787024e+00,  2.49927983e-03,\n",
       "        -2.46049874e-03],\n",
       "       [ 1.98252139e+02,  3.66854444e+00, -7.28138123e-03,\n",
       "         3.25809241e-03],\n",
       "       [ 1.74631271e+02,  3.47684578e+00,  7.34724594e-03,\n",
       "         2.07831460e-03],\n",
       "       [ 1.08576065e+02,  1.40455091e+00, -1.15540632e-03,\n",
       "        -6.40357209e-03],\n",
       "       [ 1.54222695e+02,  4.46899876e+00,  7.38395024e-03,\n",
       "        -8.11258229e-03],\n",
       "       [ 1.67132912e+02,  2.05785753e+00, -4.14600743e-03,\n",
       "         5.57770989e-03],\n",
       "       [ 1.29875049e+02,  1.56416895e+00, -7.15940036e-03,\n",
       "        -9.29136318e-03],\n",
       "       [ 1.61981857e+02,  1.09388345e+00, -3.93464347e-03,\n",
       "         7.43241682e-04],\n",
       "       [ 1.20999935e+02,  2.78486610e+00, -5.05537290e-03,\n",
       "        -9.54696532e-03],\n",
       "       [ 1.59282194e+02,  4.48090881e+00,  5.13662249e-03,\n",
       "        -5.22179571e-03],\n",
       "       [ 1.87034520e+02,  1.99020633e+00,  7.96342202e-03,\n",
       "        -6.86942963e-03],\n",
       "       [ 1.95702103e+02,  2.76663782e+00, -6.11620422e-03,\n",
       "        -2.48720790e-06],\n",
       "       [ 1.07570360e+02,  4.83430335e+00,  8.25672254e-03,\n",
       "        -1.47661627e-03],\n",
       "       [ 1.68255266e+02,  2.93659724e+00,  5.98294626e-03,\n",
       "        -8.79420121e-03]])"
      ]
     },
     "execution_count": 5,
     "metadata": {},
     "output_type": "execute_result"
    }
   ],
   "source": [
    "sampler.init_sampler()"
   ]
  },
  {
   "cell_type": "code",
   "execution_count": 6,
   "metadata": {},
   "outputs": [
    {
     "name": "stderr",
     "output_type": "stream",
     "text": [
      "Burn in:   0%|          | 0/1000 [00:00<?, ?it/s]"
     ]
    },
    {
     "name": "stdout",
     "output_type": "stream",
     "text": [
      "emcee: Exception while calling your likelihood function:\n",
      "  args: []\n",
      "emcee: Exception while calling your likelihood function:\n",
      "emcee: Exception while calling your likelihood function:\n",
      "  params: [ 1.57004327e+02  2.56033142e+00 -2.14740194e-03 -9.48127623e-03]\n",
      "  params: [ 1.19863543e+02  4.83642150e+00  4.92724568e-03 -5.07958555e-03]\n",
      "  params: [ 1.84676629e+02  4.34904151e+00 -8.39454538e-03  4.60566756e-03]\n",
      "  kwargs: {}\n",
      "emcee: Exception while calling your likelihood function:\n",
      "emcee: Exception while calling your likelihood function:\n",
      "  args: []\n",
      "  args: []\n",
      "emcee: Exception while calling your likelihood function:\n",
      "  kwargs: {}\n",
      "  params: [ 1.73079336e+02  3.15878434e+00 -9.71611789e-03  2.85036364e-03]\n",
      "  params: [1.63868544e+02 1.99516311e+00 8.18899781e-03 2.15046921e-03]\n",
      "  exception:\n",
      "  kwargs: {}\n",
      "  args: []\n",
      "  args: []\n",
      "  exception:\n",
      "emcee: Exception while calling your likelihood function:\n",
      "  params: [ 1.57262514e+02  4.82561184e+00  9.21773400e-03 -5.16031025e-03]\n",
      "  params: [ 1.95861700e+02  1.21134418e+00 -2.26349359e-03  6.60022866e-03]\n"
     ]
    },
    {
     "name": "stderr",
     "output_type": "stream",
     "text": [
      "Traceback (most recent call last):\n"
     ]
    },
    {
     "name": "stdout",
     "output_type": "stream",
     "text": [
      "  kwargs: {}\n"
     ]
    },
    {
     "name": "stderr",
     "output_type": "stream",
     "text": [
      "Traceback (most recent call last):\n"
     ]
    },
    {
     "name": "stdout",
     "output_type": "stream",
     "text": [
      "  args: []\n",
      "  exception:\n",
      "emcee: Exception while calling your likelihood function:\n",
      "  kwargs: {}\n"
     ]
    },
    {
     "name": "stderr",
     "output_type": "stream",
     "text": [
      "  File \"/home/gomesu/.pyenv/versions/anaconda3-2018.12/lib/python3.6/site-packages/emcee/ensemble.py\", line 519, in __call__\n",
      "    return self.f(x, *self.args, **self.kwargs)\n"
     ]
    },
    {
     "name": "stdout",
     "output_type": "stream",
     "text": [
      "  args: []\n",
      "  exception:\n"
     ]
    },
    {
     "name": "stderr",
     "output_type": "stream",
     "text": [
      "  File \"/home/gomesu/.pyenv/versions/anaconda3-2018.12/lib/python3.6/site-packages/emcee/ensemble.py\", line 519, in __call__\n",
      "    return self.f(x, *self.args, **self.kwargs)\n"
     ]
    },
    {
     "name": "stdout",
     "output_type": "stream",
     "text": [
      "  kwargs: {}\n",
      "  exception:\n",
      "emcee: Exception while calling your likelihood function:\n",
      "  params: [1.93656765e+02 3.08892192e+00 1.05863651e-03 7.92465507e-03]\n",
      "  kwargs: {}\n",
      "emcee: Exception while calling your likelihood function:\n"
     ]
    },
    {
     "name": "stderr",
     "output_type": "stream",
     "text": [
      "  File \"../memfg/modki17.py\", line 186, in lnpost\n",
      "    sr_params = self.array_to_series(index=self.param_names,params=params)\n"
     ]
    },
    {
     "name": "stdout",
     "output_type": "stream",
     "text": [
      "  args: []\n"
     ]
    },
    {
     "name": "stderr",
     "output_type": "stream",
     "text": [
      "Traceback (most recent call last):\n",
      "  File \"../memfg/modki17.py\", line 186, in lnpost\n",
      "    sr_params = self.array_to_series(index=self.param_names,params=params)\n",
      "Traceback (most recent call last):\n",
      "  File \"../memfg/modki17.py\", line 139, in array_to_series\n",
      "    ret = pd.Series(params,index=index)\n",
      "  File \"/home/gomesu/.pyenv/versions/anaconda3-2018.12/lib/python3.6/site-packages/emcee/ensemble.py\", line 519, in __call__\n",
      "    return self.f(x, *self.args, **self.kwargs)\n"
     ]
    },
    {
     "name": "stdout",
     "output_type": "stream",
     "text": [
      "  params: [ 1.61463569e+02  2.88358212e+00 -3.34668053e-04 -2.52575538e-04]\n"
     ]
    },
    {
     "name": "stderr",
     "output_type": "stream",
     "text": [
      "Traceback (most recent call last):\n"
     ]
    },
    {
     "name": "stdout",
     "output_type": "stream",
     "text": [
      "emcee: Exception while calling your likelihood function:\n",
      "  kwargs: {}\n"
     ]
    },
    {
     "name": "stderr",
     "output_type": "stream",
     "text": [
      "  File \"../memfg/modki17.py\", line 139, in array_to_series\n",
      "    ret = pd.Series(params,index=index)\n",
      "  File \"/home/gomesu/.pyenv/versions/anaconda3-2018.12/lib/python3.6/site-packages/emcee/ensemble.py\", line 519, in __call__\n",
      "    return self.f(x, *self.args, **self.kwargs)\n",
      "  File \"/home/gomesu/.pyenv/versions/anaconda3-2018.12/lib/python3.6/site-packages/pandas/core/series.py\", line 249, in __init__\n",
      "    .format(val=len(data), ind=len(index)))\n"
     ]
    },
    {
     "name": "stdout",
     "output_type": "stream",
     "text": [
      "  exception:\n"
     ]
    },
    {
     "name": "stderr",
     "output_type": "stream",
     "text": [
      "  File \"../memfg/modki17.py\", line 186, in lnpost\n",
      "    sr_params = self.array_to_series(index=self.param_names,params=params)\n"
     ]
    },
    {
     "name": "stdout",
     "output_type": "stream",
     "text": [
      "  exception:\n"
     ]
    },
    {
     "name": "stderr",
     "output_type": "stream",
     "text": [
      "  File \"../memfg/modki17.py\", line 186, in lnpost\n",
      "    sr_params = self.array_to_series(index=self.param_names,params=params)\n",
      "  File \"../memfg/modki17.py\", line 139, in array_to_series\n",
      "    ret = pd.Series(params,index=index)\n",
      "ValueError: Length of passed values is 4, index implies 17\n"
     ]
    },
    {
     "name": "stdout",
     "output_type": "stream",
     "text": [
      "  params: [ 1.34532641e+02  1.99241248e+00  2.41943776e-03 -5.81039781e-03]\n"
     ]
    },
    {
     "name": "stderr",
     "output_type": "stream",
     "text": [
      "  File \"../memfg/modki17.py\", line 139, in array_to_series\n",
      "    ret = pd.Series(params,index=index)\n",
      "  File \"/home/gomesu/.pyenv/versions/anaconda3-2018.12/lib/python3.6/site-packages/pandas/core/series.py\", line 249, in __init__\n",
      "    .format(val=len(data), ind=len(index)))\n",
      "  File \"/home/gomesu/.pyenv/versions/anaconda3-2018.12/lib/python3.6/site-packages/pandas/core/series.py\", line 249, in __init__\n",
      "    .format(val=len(data), ind=len(index)))\n"
     ]
    },
    {
     "name": "stdout",
     "output_type": "stream",
     "text": [
      "  args: []\n"
     ]
    },
    {
     "name": "stderr",
     "output_type": "stream",
     "text": [
      "ValueError: Length of passed values is 4, index implies 17\n",
      "Traceback (most recent call last):\n",
      "  File \"/home/gomesu/.pyenv/versions/anaconda3-2018.12/lib/python3.6/site-packages/emcee/ensemble.py\", line 519, in __call__\n",
      "    return self.f(x, *self.args, **self.kwargs)\n",
      "Traceback (most recent call last):\n",
      "  File \"/home/gomesu/.pyenv/versions/anaconda3-2018.12/lib/python3.6/site-packages/pandas/core/series.py\", line 249, in __init__\n",
      "    .format(val=len(data), ind=len(index)))\n",
      "ValueError: Length of passed values is 4, index implies 17\n"
     ]
    },
    {
     "name": "stdout",
     "output_type": "stream",
     "text": [
      "  exception:\n",
      "  kwargs: {}\n",
      "emcee: Exception while calling your likelihood function:\n"
     ]
    },
    {
     "name": "stderr",
     "output_type": "stream",
     "text": [
      "  File \"/home/gomesu/.pyenv/versions/anaconda3-2018.12/lib/python3.6/site-packages/emcee/ensemble.py\", line 519, in __call__\n",
      "    return self.f(x, *self.args, **self.kwargs)\n"
     ]
    },
    {
     "name": "stdout",
     "output_type": "stream",
     "text": [
      "  params: [ 1.17712318e+02  2.71719862e+00 -4.61503139e-03  1.43513954e-03]\n"
     ]
    },
    {
     "name": "stderr",
     "output_type": "stream",
     "text": [
      "  File \"../memfg/modki17.py\", line 186, in lnpost\n",
      "    sr_params = self.array_to_series(index=self.param_names,params=params)\n"
     ]
    },
    {
     "name": "stdout",
     "output_type": "stream",
     "text": [
      "  exception:\n"
     ]
    },
    {
     "name": "stderr",
     "output_type": "stream",
     "text": [
      "  File \"../memfg/modki17.py\", line 186, in lnpost\n",
      "    sr_params = self.array_to_series(index=self.param_names,params=params)\n",
      "ValueError: Length of passed values is 4, index implies 17\n"
     ]
    },
    {
     "name": "stdout",
     "output_type": "stream",
     "text": [
      "  args: []\n",
      "  args: []\n"
     ]
    },
    {
     "name": "stderr",
     "output_type": "stream",
     "text": [
      "Traceback (most recent call last):\n",
      "  File \"../memfg/modki17.py\", line 139, in array_to_series\n",
      "    ret = pd.Series(params,index=index)\n"
     ]
    },
    {
     "name": "stdout",
     "output_type": "stream",
     "text": [
      "  params: [1.00671013e+02 3.84135561e+00 2.32663570e-03 1.63605463e-03]\n"
     ]
    },
    {
     "name": "stderr",
     "output_type": "stream",
     "text": [
      "  File \"/home/gomesu/.pyenv/versions/anaconda3-2018.12/lib/python3.6/site-packages/emcee/ensemble.py\", line 519, in __call__\n",
      "    return self.f(x, *self.args, **self.kwargs)\n",
      "Traceback (most recent call last):\n",
      "  File \"../memfg/modki17.py\", line 139, in array_to_series\n",
      "    ret = pd.Series(params,index=index)\n",
      "  File \"/home/gomesu/.pyenv/versions/anaconda3-2018.12/lib/python3.6/site-packages/pandas/core/series.py\", line 249, in __init__\n",
      "    .format(val=len(data), ind=len(index)))\n"
     ]
    },
    {
     "name": "stdout",
     "output_type": "stream",
     "text": [
      "  kwargs: {}\n",
      "emcee: Exception while calling your likelihood function:\n"
     ]
    },
    {
     "name": "stderr",
     "output_type": "stream",
     "text": [
      "  File \"/home/gomesu/.pyenv/versions/anaconda3-2018.12/lib/python3.6/site-packages/emcee/ensemble.py\", line 519, in __call__\n",
      "    return self.f(x, *self.args, **self.kwargs)\n",
      "ValueError: Length of passed values is 4, index implies 17\n",
      "  File \"/home/gomesu/.pyenv/versions/anaconda3-2018.12/lib/python3.6/site-packages/emcee/ensemble.py\", line 519, in __call__\n",
      "    return self.f(x, *self.args, **self.kwargs)\n",
      "  File \"/home/gomesu/.pyenv/versions/anaconda3-2018.12/lib/python3.6/site-packages/pandas/core/series.py\", line 249, in __init__\n",
      "    .format(val=len(data), ind=len(index)))\n"
     ]
    },
    {
     "name": "stdout",
     "output_type": "stream",
     "text": [
      "  args: []\n"
     ]
    },
    {
     "name": "stderr",
     "output_type": "stream",
     "text": [
      "  File \"../memfg/modki17.py\", line 186, in lnpost\n",
      "    sr_params = self.array_to_series(index=self.param_names,params=params)\n"
     ]
    },
    {
     "name": "stdout",
     "output_type": "stream",
     "text": [
      "  exception:\n"
     ]
    },
    {
     "name": "stderr",
     "output_type": "stream",
     "text": [
      "  File \"../memfg/modki17.py\", line 186, in lnpost\n",
      "    sr_params = self.array_to_series(index=self.param_names,params=params)\n"
     ]
    },
    {
     "name": "stdout",
     "output_type": "stream",
     "text": [
      "  kwargs: {}\n",
      "  params: [ 1.31784074e+02  4.33467580e+00 -7.09828218e-03  6.60075467e-03]\n"
     ]
    },
    {
     "name": "stderr",
     "output_type": "stream",
     "text": [
      "  File \"../memfg/modki17.py\", line 139, in array_to_series\n",
      "    ret = pd.Series(params,index=index)\n",
      "ValueError: Length of passed values is 4, index implies 17\n",
      "  File \"../memfg/modki17.py\", line 139, in array_to_series\n",
      "    ret = pd.Series(params,index=index)\n"
     ]
    },
    {
     "name": "stdout",
     "output_type": "stream",
     "text": [
      "emcee: Exception while calling your likelihood function:\n",
      "  exception:\n",
      "  args: []\n"
     ]
    },
    {
     "name": "stderr",
     "output_type": "stream",
     "text": [
      "  File \"../memfg/modki17.py\", line 186, in lnpost\n",
      "    sr_params = self.array_to_series(index=self.param_names,params=params)\n",
      "Traceback (most recent call last):\n"
     ]
    },
    {
     "name": "stdout",
     "output_type": "stream",
     "text": [
      "  kwargs: {}\n"
     ]
    },
    {
     "name": "stderr",
     "output_type": "stream",
     "text": [
      "  File \"/home/gomesu/.pyenv/versions/anaconda3-2018.12/lib/python3.6/site-packages/pandas/core/series.py\", line 249, in __init__\n",
      "    .format(val=len(data), ind=len(index)))\n"
     ]
    },
    {
     "name": "stdout",
     "output_type": "stream",
     "text": [
      "  params: [ 1.98827867e+02  4.77730120e+00  2.50183178e-03 -8.58090938e-03]\n"
     ]
    },
    {
     "name": "stderr",
     "output_type": "stream",
     "text": [
      "  File \"../memfg/modki17.py\", line 139, in array_to_series\n",
      "    ret = pd.Series(params,index=index)\n",
      "  File \"/home/gomesu/.pyenv/versions/anaconda3-2018.12/lib/python3.6/site-packages/emcee/ensemble.py\", line 519, in __call__\n",
      "    return self.f(x, *self.args, **self.kwargs)\n",
      "ValueError: Length of passed values is 4, index implies 17\n"
     ]
    },
    {
     "name": "stdout",
     "output_type": "stream",
     "text": [
      "  exception:\n",
      "  args: []\n"
     ]
    },
    {
     "name": "stderr",
     "output_type": "stream",
     "text": [
      "  File \"/home/gomesu/.pyenv/versions/anaconda3-2018.12/lib/python3.6/site-packages/pandas/core/series.py\", line 249, in __init__\n",
      "    .format(val=len(data), ind=len(index)))\n",
      "  File \"/home/gomesu/.pyenv/versions/anaconda3-2018.12/lib/python3.6/site-packages/pandas/core/series.py\", line 249, in __init__\n",
      "    .format(val=len(data), ind=len(index)))\n",
      "  File \"../memfg/modki17.py\", line 186, in lnpost\n",
      "    sr_params = self.array_to_series(index=self.param_names,params=params)\n",
      "Traceback (most recent call last):\n"
     ]
    },
    {
     "name": "stdout",
     "output_type": "stream",
     "text": [
      "  kwargs: {}\n"
     ]
    },
    {
     "name": "stderr",
     "output_type": "stream",
     "text": [
      "  File \"../memfg/modki17.py\", line 139, in array_to_series\n",
      "    ret = pd.Series(params,index=index)\n",
      "  File \"/home/gomesu/.pyenv/versions/anaconda3-2018.12/lib/python3.6/site-packages/emcee/ensemble.py\", line 519, in __call__\n",
      "    return self.f(x, *self.args, **self.kwargs)\n",
      "ValueError: Length of passed values is 4, index implies 17\n"
     ]
    },
    {
     "name": "stdout",
     "output_type": "stream",
     "text": [
      "emcee: Exception while calling your likelihood function:\n"
     ]
    },
    {
     "name": "stderr",
     "output_type": "stream",
     "text": [
      "ValueError: Length of passed values is 4, index implies 17\n"
     ]
    },
    {
     "name": "stdout",
     "output_type": "stream",
     "text": [
      "  kwargs: {}\n"
     ]
    },
    {
     "name": "stderr",
     "output_type": "stream",
     "text": [
      "  File \"/home/gomesu/.pyenv/versions/anaconda3-2018.12/lib/python3.6/site-packages/pandas/core/series.py\", line 249, in __init__\n",
      "    .format(val=len(data), ind=len(index)))\n",
      "  File \"../memfg/modki17.py\", line 186, in lnpost\n",
      "    sr_params = self.array_to_series(index=self.param_names,params=params)\n",
      "Traceback (most recent call last):\n"
     ]
    },
    {
     "name": "stdout",
     "output_type": "stream",
     "text": [
      "  exception:\n"
     ]
    },
    {
     "name": "stderr",
     "output_type": "stream",
     "text": [
      "ValueError: Length of passed values is 4, index implies 17\n",
      "  File \"../memfg/modki17.py\", line 139, in array_to_series\n",
      "    ret = pd.Series(params,index=index)\n"
     ]
    },
    {
     "name": "stdout",
     "output_type": "stream",
     "text": [
      "  exception:\n"
     ]
    },
    {
     "name": "stderr",
     "output_type": "stream",
     "text": [
      "  File \"/home/gomesu/.pyenv/versions/anaconda3-2018.12/lib/python3.6/site-packages/emcee/ensemble.py\", line 519, in __call__\n",
      "    return self.f(x, *self.args, **self.kwargs)\n"
     ]
    },
    {
     "name": "stdout",
     "output_type": "stream",
     "text": [
      "  params: [1.52919483e+02 1.34518899e+00 9.84149343e-03 3.68463470e-03]\n"
     ]
    },
    {
     "name": "stderr",
     "output_type": "stream",
     "text": [
      "  File \"../memfg/modki17.py\", line 186, in lnpost\n",
      "    sr_params = self.array_to_series(index=self.param_names,params=params)\n",
      "  File \"/home/gomesu/.pyenv/versions/anaconda3-2018.12/lib/python3.6/site-packages/pandas/core/series.py\", line 249, in __init__\n",
      "    .format(val=len(data), ind=len(index)))\n"
     ]
    },
    {
     "name": "stdout",
     "output_type": "stream",
     "text": [
      "  args: []\n"
     ]
    },
    {
     "name": "stderr",
     "output_type": "stream",
     "text": [
      "Traceback (most recent call last):\n"
     ]
    },
    {
     "name": "stdout",
     "output_type": "stream",
     "text": [
      "emcee: Exception while calling your likelihood function:\n"
     ]
    },
    {
     "name": "stderr",
     "output_type": "stream",
     "text": [
      "  File \"../memfg/modki17.py\", line 139, in array_to_series\n",
      "    ret = pd.Series(params,index=index)\n",
      "Traceback (most recent call last):\n"
     ]
    },
    {
     "name": "stdout",
     "output_type": "stream",
     "text": [
      "  kwargs: {}\n"
     ]
    },
    {
     "name": "stderr",
     "output_type": "stream",
     "text": [
      "ValueError: Length of passed values is 4, index implies 17\n",
      "  File \"/home/gomesu/.pyenv/versions/anaconda3-2018.12/lib/python3.6/site-packages/emcee/ensemble.py\", line 519, in __call__\n",
      "    return self.f(x, *self.args, **self.kwargs)\n",
      "  File \"/home/gomesu/.pyenv/versions/anaconda3-2018.12/lib/python3.6/site-packages/pandas/core/series.py\", line 249, in __init__\n",
      "    .format(val=len(data), ind=len(index)))\n",
      "  File \"/home/gomesu/.pyenv/versions/anaconda3-2018.12/lib/python3.6/site-packages/emcee/ensemble.py\", line 519, in __call__\n",
      "    return self.f(x, *self.args, **self.kwargs)\n"
     ]
    },
    {
     "name": "stdout",
     "output_type": "stream",
     "text": [
      "  exception:\n"
     ]
    },
    {
     "name": "stderr",
     "output_type": "stream",
     "text": [
      "  File \"../memfg/modki17.py\", line 186, in lnpost\n",
      "    sr_params = self.array_to_series(index=self.param_names,params=params)\n"
     ]
    },
    {
     "name": "stdout",
     "output_type": "stream",
     "text": [
      "  params: [1.18851441e+02 2.69815113e+00 2.72810286e-03 7.28596418e-03]\n"
     ]
    },
    {
     "name": "stderr",
     "output_type": "stream",
     "text": [
      "  File \"../memfg/modki17.py\", line 186, in lnpost\n",
      "    sr_params = self.array_to_series(index=self.param_names,params=params)\n",
      "ValueError: Length of passed values is 4, index implies 17\n",
      "  File \"../memfg/modki17.py\", line 139, in array_to_series\n",
      "    ret = pd.Series(params,index=index)\n"
     ]
    },
    {
     "name": "stdout",
     "output_type": "stream",
     "text": [
      "  args: []\n"
     ]
    },
    {
     "name": "stderr",
     "output_type": "stream",
     "text": [
      "  File \"../memfg/modki17.py\", line 139, in array_to_series\n",
      "    ret = pd.Series(params,index=index)\n",
      "  File \"/home/gomesu/.pyenv/versions/anaconda3-2018.12/lib/python3.6/site-packages/pandas/core/series.py\", line 249, in __init__\n",
      "    .format(val=len(data), ind=len(index)))\n"
     ]
    },
    {
     "name": "stdout",
     "output_type": "stream",
     "text": [
      "  kwargs: {}\n"
     ]
    },
    {
     "name": "stderr",
     "output_type": "stream",
     "text": [
      "Traceback (most recent call last):\n",
      "  File \"/home/gomesu/.pyenv/versions/anaconda3-2018.12/lib/python3.6/site-packages/pandas/core/series.py\", line 249, in __init__\n",
      "    .format(val=len(data), ind=len(index)))\n",
      "ValueError: Length of passed values is 4, index implies 17\n"
     ]
    },
    {
     "name": "stdout",
     "output_type": "stream",
     "text": [
      "  exception:\n"
     ]
    },
    {
     "name": "stderr",
     "output_type": "stream",
     "text": [
      "ValueError: Length of passed values is 4, index implies 17\n",
      "  File \"/home/gomesu/.pyenv/versions/anaconda3-2018.12/lib/python3.6/site-packages/emcee/ensemble.py\", line 519, in __call__\n",
      "    return self.f(x, *self.args, **self.kwargs)\n",
      "  File \"../memfg/modki17.py\", line 186, in lnpost\n",
      "    sr_params = self.array_to_series(index=self.param_names,params=params)\n",
      "  File \"../memfg/modki17.py\", line 139, in array_to_series\n",
      "    ret = pd.Series(params,index=index)\n",
      "Traceback (most recent call last):\n",
      "  File \"/home/gomesu/.pyenv/versions/anaconda3-2018.12/lib/python3.6/site-packages/pandas/core/series.py\", line 249, in __init__\n",
      "    .format(val=len(data), ind=len(index)))\n",
      "  File \"/home/gomesu/.pyenv/versions/anaconda3-2018.12/lib/python3.6/site-packages/emcee/ensemble.py\", line 519, in __call__\n",
      "    return self.f(x, *self.args, **self.kwargs)\n",
      "ValueError: Length of passed values is 4, index implies 17\n",
      "  File \"../memfg/modki17.py\", line 186, in lnpost\n",
      "    sr_params = self.array_to_series(index=self.param_names,params=params)\n",
      "  File \"../memfg/modki17.py\", line 139, in array_to_series\n",
      "    ret = pd.Series(params,index=index)\n",
      "  File \"/home/gomesu/.pyenv/versions/anaconda3-2018.12/lib/python3.6/site-packages/pandas/core/series.py\", line 249, in __init__\n",
      "    .format(val=len(data), ind=len(index)))\n",
      "ValueError: Length of passed values is 4, index implies 17\n"
     ]
    },
    {
     "ename": "ValueError",
     "evalue": "Length of passed values is 4, index implies 17",
     "output_type": "error",
     "traceback": [
      "\u001b[0;31m---------------------------------------------------------------------------\u001b[0m",
      "\u001b[0;31mRemoteTraceback\u001b[0m                           Traceback (most recent call last)",
      "\u001b[0;31mRemoteTraceback\u001b[0m: \n\"\"\"\nTraceback (most recent call last):\n  File \"/home/gomesu/.pyenv/versions/anaconda3-2018.12/lib/python3.6/multiprocessing/pool.py\", line 119, in worker\n    result = (True, func(*args, **kwds))\n  File \"/home/gomesu/.pyenv/versions/anaconda3-2018.12/lib/python3.6/multiprocessing/pool.py\", line 44, in mapstar\n    return list(map(*args))\n  File \"/home/gomesu/.pyenv/versions/anaconda3-2018.12/lib/python3.6/site-packages/emcee/ensemble.py\", line 519, in __call__\n    return self.f(x, *self.args, **self.kwargs)\n  File \"../memfg/modki17.py\", line 186, in lnpost\n    sr_params = self.array_to_series(index=self.param_names,params=params)\n  File \"../memfg/modki17.py\", line 139, in array_to_series\n    ret = pd.Series(params,index=index)\n  File \"/home/gomesu/.pyenv/versions/anaconda3-2018.12/lib/python3.6/site-packages/pandas/core/series.py\", line 249, in __init__\n    .format(val=len(data), ind=len(index)))\nValueError: Length of passed values is 4, index implies 17\n\"\"\"",
      "\nThe above exception was the direct cause of the following exception:\n",
      "\u001b[0;31mValueError\u001b[0m                                Traceback (most recent call last)",
      "\u001b[0;32m<ipython-input-6-516a8d242a80>\u001b[0m in \u001b[0;36m<module>\u001b[0;34m\u001b[0m\n\u001b[0;32m----> 1\u001b[0;31m \u001b[0msampler\u001b[0m\u001b[0;34m.\u001b[0m\u001b[0mrun_mcmc_epoch\u001b[0m\u001b[0;34m(\u001b[0m\u001b[0;34m'test_spec.csv'\u001b[0m\u001b[0;34m)\u001b[0m\u001b[0;34m\u001b[0m\u001b[0;34m\u001b[0m\u001b[0m\n\u001b[0m",
      "\u001b[0;32m~/workspace/MemFG-dev/memfg/sampler.py\u001b[0m in \u001b[0;36mrun_mcmc_epoch\u001b[0;34m(self, output_fname, n_burnin, n_run, n_epoch)\u001b[0m\n\u001b[1;32m    102\u001b[0m         \u001b[0mself\u001b[0m\u001b[0;34m.\u001b[0m\u001b[0minit_sampler\u001b[0m\u001b[0;34m(\u001b[0m\u001b[0;34m)\u001b[0m\u001b[0;34m\u001b[0m\u001b[0;34m\u001b[0m\u001b[0m\n\u001b[1;32m    103\u001b[0m         \u001b[0mself\u001b[0m\u001b[0;34m.\u001b[0m\u001b[0mprepare_csv\u001b[0m\u001b[0;34m(\u001b[0m\u001b[0moutput_fname\u001b[0m\u001b[0;34m)\u001b[0m\u001b[0;34m\u001b[0m\u001b[0;34m\u001b[0m\u001b[0m\n\u001b[0;32m--> 104\u001b[0;31m         \u001b[0mpos\u001b[0m \u001b[0;34m=\u001b[0m \u001b[0mself\u001b[0m\u001b[0;34m.\u001b[0m\u001b[0msample\u001b[0m\u001b[0;34m(\u001b[0m\u001b[0mself\u001b[0m\u001b[0;34m.\u001b[0m\u001b[0mpos0\u001b[0m\u001b[0;34m,\u001b[0m\u001b[0mn_burnin\u001b[0m\u001b[0;34m,\u001b[0m\u001b[0mdesc\u001b[0m\u001b[0;34m=\u001b[0m\u001b[0;34m\"Burn in: \"\u001b[0m\u001b[0;34m)\u001b[0m\u001b[0;34m\u001b[0m\u001b[0;34m\u001b[0m\u001b[0m\n\u001b[0m\u001b[1;32m    105\u001b[0m         \u001b[0mself\u001b[0m\u001b[0;34m.\u001b[0m\u001b[0msampler\u001b[0m\u001b[0;34m.\u001b[0m\u001b[0mreset\u001b[0m\u001b[0;34m(\u001b[0m\u001b[0;34m)\u001b[0m\u001b[0;34m\u001b[0m\u001b[0;34m\u001b[0m\u001b[0m\n\u001b[1;32m    106\u001b[0m \u001b[0;34m\u001b[0m\u001b[0m\n",
      "\u001b[0;32m~/workspace/MemFG-dev/memfg/sampler.py\u001b[0m in \u001b[0;36msample\u001b[0;34m(self, p0, n_run, fname, mode, header, reset, desc)\u001b[0m\n\u001b[1;32m     79\u001b[0m     \u001b[0;31m######## parameter sampler ########\u001b[0m\u001b[0;34m\u001b[0m\u001b[0;34m\u001b[0m\u001b[0;34m\u001b[0m\u001b[0m\n\u001b[1;32m     80\u001b[0m     \u001b[0;32mdef\u001b[0m \u001b[0msample\u001b[0m\u001b[0;34m(\u001b[0m\u001b[0mself\u001b[0m\u001b[0;34m,\u001b[0m\u001b[0mp0\u001b[0m\u001b[0;34m,\u001b[0m\u001b[0mn_run\u001b[0m \u001b[0;34m=\u001b[0m \u001b[0;36m5000\u001b[0m\u001b[0;34m,\u001b[0m\u001b[0mfname\u001b[0m\u001b[0;34m=\u001b[0m\u001b[0;32mNone\u001b[0m\u001b[0;34m,\u001b[0m\u001b[0mmode\u001b[0m\u001b[0;34m=\u001b[0m\u001b[0;34m\"w\"\u001b[0m\u001b[0;34m,\u001b[0m\u001b[0mheader\u001b[0m\u001b[0;34m=\u001b[0m\u001b[0;32mTrue\u001b[0m\u001b[0;34m,\u001b[0m\u001b[0mreset\u001b[0m\u001b[0;34m=\u001b[0m\u001b[0;32mFalse\u001b[0m\u001b[0;34m,\u001b[0m\u001b[0mdesc\u001b[0m\u001b[0;34m=\u001b[0m\u001b[0;32mNone\u001b[0m\u001b[0;34m)\u001b[0m\u001b[0;34m:\u001b[0m\u001b[0;34m\u001b[0m\u001b[0;34m\u001b[0m\u001b[0m\n\u001b[0;32m---> 81\u001b[0;31m         \u001b[0;32mfor\u001b[0m \u001b[0mpos\u001b[0m\u001b[0;34m,\u001b[0m \u001b[0mprob\u001b[0m\u001b[0;34m,\u001b[0m \u001b[0mstate\u001b[0m \u001b[0;32min\u001b[0m \u001b[0mtqdm\u001b[0m\u001b[0;34m(\u001b[0m\u001b[0mself\u001b[0m\u001b[0;34m.\u001b[0m\u001b[0msampler\u001b[0m\u001b[0;34m.\u001b[0m\u001b[0msample\u001b[0m\u001b[0;34m(\u001b[0m\u001b[0mp0\u001b[0m\u001b[0;34m,\u001b[0m\u001b[0miterations\u001b[0m\u001b[0;34m=\u001b[0m\u001b[0mn_run\u001b[0m\u001b[0;34m)\u001b[0m\u001b[0;34m,\u001b[0m\u001b[0mtotal\u001b[0m\u001b[0;34m=\u001b[0m\u001b[0mn_run\u001b[0m\u001b[0;34m,\u001b[0m\u001b[0mdesc\u001b[0m\u001b[0;34m=\u001b[0m\u001b[0mdesc\u001b[0m\u001b[0;34m)\u001b[0m\u001b[0;34m:\u001b[0m\u001b[0;34m\u001b[0m\u001b[0;34m\u001b[0m\u001b[0m\n\u001b[0m\u001b[1;32m     82\u001b[0m             \u001b[0;32mpass\u001b[0m\u001b[0;34m\u001b[0m\u001b[0;34m\u001b[0m\u001b[0m\n\u001b[1;32m     83\u001b[0m         \u001b[0;32melse\u001b[0m\u001b[0;34m:\u001b[0m\u001b[0;34m\u001b[0m\u001b[0;34m\u001b[0m\u001b[0m\n",
      "\u001b[0;32m~/.pyenv/versions/anaconda3-2018.12/lib/python3.6/site-packages/tqdm/_tqdm.py\u001b[0m in \u001b[0;36m__iter__\u001b[0;34m(self)\u001b[0m\n\u001b[1;32m   1020\u001b[0m                 \"\"\"), fp_write=getattr(self.fp, 'write', sys.stderr.write))\n\u001b[1;32m   1021\u001b[0m \u001b[0;34m\u001b[0m\u001b[0m\n\u001b[0;32m-> 1022\u001b[0;31m             \u001b[0;32mfor\u001b[0m \u001b[0mobj\u001b[0m \u001b[0;32min\u001b[0m \u001b[0miterable\u001b[0m\u001b[0;34m:\u001b[0m\u001b[0;34m\u001b[0m\u001b[0;34m\u001b[0m\u001b[0m\n\u001b[0m\u001b[1;32m   1023\u001b[0m                 \u001b[0;32myield\u001b[0m \u001b[0mobj\u001b[0m\u001b[0;34m\u001b[0m\u001b[0;34m\u001b[0m\u001b[0m\n\u001b[1;32m   1024\u001b[0m                 \u001b[0;31m# Update and possibly print the progressbar.\u001b[0m\u001b[0;34m\u001b[0m\u001b[0;34m\u001b[0m\u001b[0;34m\u001b[0m\u001b[0m\n",
      "\u001b[0;32m~/.pyenv/versions/anaconda3-2018.12/lib/python3.6/site-packages/emcee/ensemble.py\u001b[0m in \u001b[0;36msample\u001b[0;34m(self, p0, lnprob0, rstate0, blobs0, iterations, thin, storechain, mh_proposal)\u001b[0m\n\u001b[1;32m    196\u001b[0m         \u001b[0mblobs\u001b[0m \u001b[0;34m=\u001b[0m \u001b[0mblobs0\u001b[0m\u001b[0;34m\u001b[0m\u001b[0;34m\u001b[0m\u001b[0m\n\u001b[1;32m    197\u001b[0m         \u001b[0;32mif\u001b[0m \u001b[0mlnprob\u001b[0m \u001b[0;32mis\u001b[0m \u001b[0;32mNone\u001b[0m\u001b[0;34m:\u001b[0m\u001b[0;34m\u001b[0m\u001b[0;34m\u001b[0m\u001b[0m\n\u001b[0;32m--> 198\u001b[0;31m             \u001b[0mlnprob\u001b[0m\u001b[0;34m,\u001b[0m \u001b[0mblobs\u001b[0m \u001b[0;34m=\u001b[0m \u001b[0mself\u001b[0m\u001b[0;34m.\u001b[0m\u001b[0m_get_lnprob\u001b[0m\u001b[0;34m(\u001b[0m\u001b[0mp\u001b[0m\u001b[0;34m)\u001b[0m\u001b[0;34m\u001b[0m\u001b[0;34m\u001b[0m\u001b[0m\n\u001b[0m\u001b[1;32m    199\u001b[0m \u001b[0;34m\u001b[0m\u001b[0m\n\u001b[1;32m    200\u001b[0m         \u001b[0;31m# Check to make sure that the probability function didn't return\u001b[0m\u001b[0;34m\u001b[0m\u001b[0;34m\u001b[0m\u001b[0;34m\u001b[0m\u001b[0m\n",
      "\u001b[0;32m~/.pyenv/versions/anaconda3-2018.12/lib/python3.6/site-packages/emcee/ensemble.py\u001b[0m in \u001b[0;36m_get_lnprob\u001b[0;34m(self, pos)\u001b[0m\n\u001b[1;32m    380\u001b[0m \u001b[0;34m\u001b[0m\u001b[0m\n\u001b[1;32m    381\u001b[0m         \u001b[0;31m# Run the log-probability calculations (optionally in parallel).\u001b[0m\u001b[0;34m\u001b[0m\u001b[0;34m\u001b[0m\u001b[0;34m\u001b[0m\u001b[0m\n\u001b[0;32m--> 382\u001b[0;31m         \u001b[0mresults\u001b[0m \u001b[0;34m=\u001b[0m \u001b[0mlist\u001b[0m\u001b[0;34m(\u001b[0m\u001b[0mM\u001b[0m\u001b[0;34m(\u001b[0m\u001b[0mself\u001b[0m\u001b[0;34m.\u001b[0m\u001b[0mlnprobfn\u001b[0m\u001b[0;34m,\u001b[0m \u001b[0;34m[\u001b[0m\u001b[0mp\u001b[0m\u001b[0;34m[\u001b[0m\u001b[0mi\u001b[0m\u001b[0;34m]\u001b[0m \u001b[0;32mfor\u001b[0m \u001b[0mi\u001b[0m \u001b[0;32min\u001b[0m \u001b[0mrange\u001b[0m\u001b[0;34m(\u001b[0m\u001b[0mlen\u001b[0m\u001b[0;34m(\u001b[0m\u001b[0mp\u001b[0m\u001b[0;34m)\u001b[0m\u001b[0;34m)\u001b[0m\u001b[0;34m]\u001b[0m\u001b[0;34m)\u001b[0m\u001b[0;34m)\u001b[0m\u001b[0;34m\u001b[0m\u001b[0;34m\u001b[0m\u001b[0m\n\u001b[0m\u001b[1;32m    383\u001b[0m \u001b[0;34m\u001b[0m\u001b[0m\n\u001b[1;32m    384\u001b[0m         \u001b[0;32mtry\u001b[0m\u001b[0;34m:\u001b[0m\u001b[0;34m\u001b[0m\u001b[0;34m\u001b[0m\u001b[0m\n",
      "\u001b[0;32m~/.pyenv/versions/anaconda3-2018.12/lib/python3.6/site-packages/emcee/interruptible_pool.py\u001b[0m in \u001b[0;36mmap\u001b[0;34m(self, func, iterable, chunksize)\u001b[0m\n\u001b[1;32m     92\u001b[0m         \u001b[0;32mwhile\u001b[0m \u001b[0;32mTrue\u001b[0m\u001b[0;34m:\u001b[0m\u001b[0;34m\u001b[0m\u001b[0;34m\u001b[0m\u001b[0m\n\u001b[1;32m     93\u001b[0m             \u001b[0;32mtry\u001b[0m\u001b[0;34m:\u001b[0m\u001b[0;34m\u001b[0m\u001b[0;34m\u001b[0m\u001b[0m\n\u001b[0;32m---> 94\u001b[0;31m                 \u001b[0;32mreturn\u001b[0m \u001b[0mr\u001b[0m\u001b[0;34m.\u001b[0m\u001b[0mget\u001b[0m\u001b[0;34m(\u001b[0m\u001b[0mself\u001b[0m\u001b[0;34m.\u001b[0m\u001b[0mwait_timeout\u001b[0m\u001b[0;34m)\u001b[0m\u001b[0;34m\u001b[0m\u001b[0;34m\u001b[0m\u001b[0m\n\u001b[0m\u001b[1;32m     95\u001b[0m             \u001b[0;32mexcept\u001b[0m \u001b[0mTimeoutError\u001b[0m\u001b[0;34m:\u001b[0m\u001b[0;34m\u001b[0m\u001b[0;34m\u001b[0m\u001b[0m\n\u001b[1;32m     96\u001b[0m                 \u001b[0;32mpass\u001b[0m\u001b[0;34m\u001b[0m\u001b[0;34m\u001b[0m\u001b[0m\n",
      "\u001b[0;32m~/.pyenv/versions/anaconda3-2018.12/lib/python3.6/multiprocessing/pool.py\u001b[0m in \u001b[0;36mget\u001b[0;34m(self, timeout)\u001b[0m\n\u001b[1;32m    642\u001b[0m             \u001b[0;32mreturn\u001b[0m \u001b[0mself\u001b[0m\u001b[0;34m.\u001b[0m\u001b[0m_value\u001b[0m\u001b[0;34m\u001b[0m\u001b[0;34m\u001b[0m\u001b[0m\n\u001b[1;32m    643\u001b[0m         \u001b[0;32melse\u001b[0m\u001b[0;34m:\u001b[0m\u001b[0;34m\u001b[0m\u001b[0;34m\u001b[0m\u001b[0m\n\u001b[0;32m--> 644\u001b[0;31m             \u001b[0;32mraise\u001b[0m \u001b[0mself\u001b[0m\u001b[0;34m.\u001b[0m\u001b[0m_value\u001b[0m\u001b[0;34m\u001b[0m\u001b[0;34m\u001b[0m\u001b[0m\n\u001b[0m\u001b[1;32m    645\u001b[0m \u001b[0;34m\u001b[0m\u001b[0m\n\u001b[1;32m    646\u001b[0m     \u001b[0;32mdef\u001b[0m \u001b[0m_set\u001b[0m\u001b[0;34m(\u001b[0m\u001b[0mself\u001b[0m\u001b[0;34m,\u001b[0m \u001b[0mi\u001b[0m\u001b[0;34m,\u001b[0m \u001b[0mobj\u001b[0m\u001b[0;34m)\u001b[0m\u001b[0;34m:\u001b[0m\u001b[0;34m\u001b[0m\u001b[0;34m\u001b[0m\u001b[0m\n",
      "\u001b[0;31mValueError\u001b[0m: Length of passed values is 4, index implies 17"
     ]
    }
   ],
   "source": [
    "sampler.run_mcmc_epoch('test_spec.csv')"
   ]
  },
  {
   "cell_type": "code",
   "execution_count": null,
   "metadata": {},
   "outputs": [],
   "source": []
  }
 ],
 "metadata": {
  "kernelspec": {
   "display_name": "Python 3",
   "language": "python",
   "name": "python3"
  },
  "language_info": {
   "codemirror_mode": {
    "name": "ipython",
    "version": 3
   },
   "file_extension": ".py",
   "mimetype": "text/x-python",
   "name": "python",
   "nbconvert_exporter": "python",
   "pygments_lexer": "ipython3",
   "version": "3.6.8"
  }
 },
 "nbformat": 4,
 "nbformat_minor": 2
}
